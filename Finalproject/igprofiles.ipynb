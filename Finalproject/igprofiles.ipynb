{
 "cells": [
  {
   "cell_type": "code",
   "execution_count": 1,
   "metadata": {},
   "outputs": [],
   "source": [
    "import pandas as pd"
   ]
  },
  {
   "cell_type": "code",
   "execution_count": 2,
   "metadata": {},
   "outputs": [],
   "source": [
    "with open('C:/Users/leandro/Desktop/igprofiles.json','r', encoding='utf8') as f:\n",
    "    x = f.readlines()"
   ]
  },
  {
   "cell_type": "code",
   "execution_count": 4,
   "metadata": {},
   "outputs": [],
   "source": [
    "data = pd.read_json('C:/Users/leandro/Desktop/igprofiles.json', lines=True) "
   ]
  },
  {
   "cell_type": "code",
   "execution_count": 7,
   "metadata": {},
   "outputs": [
    {
     "data": {
      "text/html": [
       "<div>\n",
       "<style scoped>\n",
       "    .dataframe tbody tr th:only-of-type {\n",
       "        vertical-align: middle;\n",
       "    }\n",
       "\n",
       "    .dataframe tbody tr th {\n",
       "        vertical-align: top;\n",
       "    }\n",
       "\n",
       "    .dataframe thead th {\n",
       "        text-align: right;\n",
       "    }\n",
       "</style>\n",
       "<table border=\"1\" class=\"dataframe\">\n",
       "  <thead>\n",
       "    <tr style=\"text-align: right;\">\n",
       "      <th></th>\n",
       "      <th>_id</th>\n",
       "      <th>id</th>\n",
       "      <th>__v</th>\n",
       "      <th>biography</th>\n",
       "      <th>blocked_by_viewer</th>\n",
       "      <th>business_category_name</th>\n",
       "      <th>category_id</th>\n",
       "      <th>connected_fb_page</th>\n",
       "      <th>country_block</th>\n",
       "      <th>edge_felix_video_timeline</th>\n",
       "      <th>...</th>\n",
       "      <th>is_joined_recently</th>\n",
       "      <th>is_private</th>\n",
       "      <th>is_verified</th>\n",
       "      <th>overall_category_name</th>\n",
       "      <th>profile_pic_url</th>\n",
       "      <th>profile_pic_url_hd</th>\n",
       "      <th>requested_by_viewer</th>\n",
       "      <th>restricted_by_viewer</th>\n",
       "      <th>username</th>\n",
       "      <th>elmcategory</th>\n",
       "    </tr>\n",
       "  </thead>\n",
       "  <tbody>\n",
       "    <tr>\n",
       "      <td>0</td>\n",
       "      <td>{'$oid': '5e7021f58ddab2091717b8b5'}</td>\n",
       "      <td>24686696</td>\n",
       "      <td>{'$numberInt': '0'}</td>\n",
       "      <td>Contact: mail@ladyironchef.com\\nFacebook.com/l...</td>\n",
       "      <td>False</td>\n",
       "      <td>None</td>\n",
       "      <td>1.602000e+03</td>\n",
       "      <td>NaN</td>\n",
       "      <td>False</td>\n",
       "      <td>{'count': {'$numberInt': '207'}, 'page_info': ...</td>\n",
       "      <td>...</td>\n",
       "      <td>False</td>\n",
       "      <td>False</td>\n",
       "      <td>True</td>\n",
       "      <td>NaN</td>\n",
       "      <td>https://scontent-mia3-1.cdninstagram.com/v/t51...</td>\n",
       "      <td>https://scontent-mia3-1.cdninstagram.com/v/t51...</td>\n",
       "      <td>False</td>\n",
       "      <td>NaN</td>\n",
       "      <td>ladyironchef</td>\n",
       "      <td>food</td>\n",
       "    </tr>\n",
       "    <tr>\n",
       "      <td>1</td>\n",
       "      <td>{'$oid': '5e7021f58ddab2091717b8b8'}</td>\n",
       "      <td>3532778</td>\n",
       "      <td>{'$numberInt': '0'}</td>\n",
       "      <td>Chef &amp; Dad\\nRecipe links, book links &amp; more ri...</td>\n",
       "      <td>False</td>\n",
       "      <td>Food &amp; Personal Goods</td>\n",
       "      <td>1.562965e+15</td>\n",
       "      <td>NaN</td>\n",
       "      <td>False</td>\n",
       "      <td>{'count': {'$numberInt': '137'}, 'page_info': ...</td>\n",
       "      <td>...</td>\n",
       "      <td>False</td>\n",
       "      <td>False</td>\n",
       "      <td>True</td>\n",
       "      <td>NaN</td>\n",
       "      <td>https://scontent-mia3-1.cdninstagram.com/v/t51...</td>\n",
       "      <td>https://scontent-mia3-1.cdninstagram.com/v/t51...</td>\n",
       "      <td>False</td>\n",
       "      <td>NaN</td>\n",
       "      <td>jamieoliver</td>\n",
       "      <td>food</td>\n",
       "    </tr>\n",
       "  </tbody>\n",
       "</table>\n",
       "<p>2 rows × 37 columns</p>\n",
       "</div>"
      ],
      "text/plain": [
       "                                    _id        id                  __v  \\\n",
       "0  {'$oid': '5e7021f58ddab2091717b8b5'}  24686696  {'$numberInt': '0'}   \n",
       "1  {'$oid': '5e7021f58ddab2091717b8b8'}   3532778  {'$numberInt': '0'}   \n",
       "\n",
       "                                           biography  blocked_by_viewer  \\\n",
       "0  Contact: mail@ladyironchef.com\\nFacebook.com/l...              False   \n",
       "1  Chef & Dad\\nRecipe links, book links & more ri...              False   \n",
       "\n",
       "  business_category_name   category_id  connected_fb_page  country_block  \\\n",
       "0                   None  1.602000e+03                NaN          False   \n",
       "1  Food & Personal Goods  1.562965e+15                NaN          False   \n",
       "\n",
       "                           edge_felix_video_timeline  ... is_joined_recently  \\\n",
       "0  {'count': {'$numberInt': '207'}, 'page_info': ...  ...              False   \n",
       "1  {'count': {'$numberInt': '137'}, 'page_info': ...  ...              False   \n",
       "\n",
       "  is_private is_verified overall_category_name  \\\n",
       "0      False        True                   NaN   \n",
       "1      False        True                   NaN   \n",
       "\n",
       "                                     profile_pic_url  \\\n",
       "0  https://scontent-mia3-1.cdninstagram.com/v/t51...   \n",
       "1  https://scontent-mia3-1.cdninstagram.com/v/t51...   \n",
       "\n",
       "                                  profile_pic_url_hd requested_by_viewer  \\\n",
       "0  https://scontent-mia3-1.cdninstagram.com/v/t51...               False   \n",
       "1  https://scontent-mia3-1.cdninstagram.com/v/t51...               False   \n",
       "\n",
       "  restricted_by_viewer      username  elmcategory  \n",
       "0                  NaN  ladyironchef         food  \n",
       "1                  NaN   jamieoliver         food  \n",
       "\n",
       "[2 rows x 37 columns]"
      ]
     },
     "execution_count": 7,
     "metadata": {},
     "output_type": "execute_result"
    }
   ],
   "source": [
    "data.head(2)"
   ]
  },
  {
   "cell_type": "code",
   "execution_count": 8,
   "metadata": {},
   "outputs": [],
   "source": [
    "profile=data[['id','business_category_name','username','elmcategory']]"
   ]
  },
  {
   "cell_type": "code",
   "execution_count": 10,
   "metadata": {},
   "outputs": [
    {
     "data": {
      "text/plain": [
       "(64, 4)"
      ]
     },
     "execution_count": 10,
     "metadata": {},
     "output_type": "execute_result"
    }
   ],
   "source": [
    "profile.shape"
   ]
  },
  {
   "cell_type": "code",
   "execution_count": null,
   "metadata": {},
   "outputs": [],
   "source": []
  }
 ],
 "metadata": {
  "kernelspec": {
   "display_name": "Python 3",
   "language": "python",
   "name": "python3"
  },
  "language_info": {
   "codemirror_mode": {
    "name": "ipython",
    "version": 3
   },
   "file_extension": ".py",
   "mimetype": "text/x-python",
   "name": "python",
   "nbconvert_exporter": "python",
   "pygments_lexer": "ipython3",
   "version": "3.7.4"
  }
 },
 "nbformat": 4,
 "nbformat_minor": 2
}
