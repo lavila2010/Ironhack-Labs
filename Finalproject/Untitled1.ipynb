{
 "cells": [
  {
   "cell_type": "code",
   "execution_count": 3,
   "metadata": {},
   "outputs": [],
   "source": [
    "with open('C:/Users/leandro/Desktop/posts.json','r', encoding='utf8') as f:\n",
    "    x = f.readlines()\n"
   ]
  },
  {
   "cell_type": "code",
   "execution_count": 14,
   "metadata": {},
   "outputs": [],
   "source": [
    "import pandas as pd\n",
    "import re"
   ]
  },
  {
   "cell_type": "code",
   "execution_count": 5,
   "metadata": {},
   "outputs": [],
   "source": [
    "data = pd.read_json('C:/Users/leandro/Desktop/posts.json', lines=True) "
   ]
  },
  {
   "cell_type": "code",
   "execution_count": 6,
   "metadata": {},
   "outputs": [
    {
     "data": {
      "text/html": [
       "<div>\n",
       "<style scoped>\n",
       "    .dataframe tbody tr th:only-of-type {\n",
       "        vertical-align: middle;\n",
       "    }\n",
       "\n",
       "    .dataframe tbody tr th {\n",
       "        vertical-align: top;\n",
       "    }\n",
       "\n",
       "    .dataframe thead th {\n",
       "        text-align: right;\n",
       "    }\n",
       "</style>\n",
       "<table border=\"1\" class=\"dataframe\">\n",
       "  <thead>\n",
       "    <tr style=\"text-align: right;\">\n",
       "      <th></th>\n",
       "      <th>_id</th>\n",
       "      <th>media_id</th>\n",
       "      <th>__v</th>\n",
       "      <th>shortcode</th>\n",
       "      <th>text</th>\n",
       "      <th>comment_count</th>\n",
       "      <th>date</th>\n",
       "      <th>display_url</th>\n",
       "      <th>is_video</th>\n",
       "      <th>like_count</th>\n",
       "      <th>owner_id</th>\n",
       "      <th>thumbnail</th>\n",
       "      <th>thumbnail_resource</th>\n",
       "      <th>video_view_count</th>\n",
       "    </tr>\n",
       "  </thead>\n",
       "  <tbody>\n",
       "    <tr>\n",
       "      <td>0</td>\n",
       "      <td>{'$oid': '5e6ac67b8ddab20917171f29'}</td>\n",
       "      <td>2262746505634268160</td>\n",
       "      <td>{'$numberInt': '0'}</td>\n",
       "      <td>B9m4_VVFkQQ</td>\n",
       "      <td>Recordamos siempre con mucho cariÃ±o a la bell...</td>\n",
       "      <td>{'$numberInt': '53'}</td>\n",
       "      <td>{'$numberInt': '1583960425'}</td>\n",
       "      <td>https://scontent-mia3-1.cdninstagram.com/v/t51...</td>\n",
       "      <td>0.0</td>\n",
       "      <td>{'$numberInt': '2489'}</td>\n",
       "      <td>6.239895e+09</td>\n",
       "      <td>https://scontent-mia3-1.cdninstagram.com/v/t51...</td>\n",
       "      <td>[{'src': 'https://scontent-mia3-1.cdninstagram...</td>\n",
       "      <td>NaN</td>\n",
       "    </tr>\n",
       "  </tbody>\n",
       "</table>\n",
       "</div>"
      ],
      "text/plain": [
       "                                    _id             media_id  \\\n",
       "0  {'$oid': '5e6ac67b8ddab20917171f29'}  2262746505634268160   \n",
       "\n",
       "                   __v    shortcode  \\\n",
       "0  {'$numberInt': '0'}  B9m4_VVFkQQ   \n",
       "\n",
       "                                                text         comment_count  \\\n",
       "0  Recordamos siempre con mucho cariÃ±o a la bell...  {'$numberInt': '53'}   \n",
       "\n",
       "                           date  \\\n",
       "0  {'$numberInt': '1583960425'}   \n",
       "\n",
       "                                         display_url  is_video  \\\n",
       "0  https://scontent-mia3-1.cdninstagram.com/v/t51...       0.0   \n",
       "\n",
       "               like_count      owner_id  \\\n",
       "0  {'$numberInt': '2489'}  6.239895e+09   \n",
       "\n",
       "                                           thumbnail  \\\n",
       "0  https://scontent-mia3-1.cdninstagram.com/v/t51...   \n",
       "\n",
       "                                  thumbnail_resource video_view_count  \n",
       "0  [{'src': 'https://scontent-mia3-1.cdninstagram...              NaN  "
      ]
     },
     "execution_count": 6,
     "metadata": {},
     "output_type": "execute_result"
    }
   ],
   "source": [
    "data.head(1)"
   ]
  },
  {
   "cell_type": "code",
   "execution_count": 121,
   "metadata": {},
   "outputs": [],
   "source": [
    "post=data[['owner_id','text','date','display_url','is_video','like_count','comment_count','video_view_count']]"
   ]
  },
  {
   "cell_type": "code",
   "execution_count": 122,
   "metadata": {},
   "outputs": [
    {
     "data": {
      "text/html": [
       "<div>\n",
       "<style scoped>\n",
       "    .dataframe tbody tr th:only-of-type {\n",
       "        vertical-align: middle;\n",
       "    }\n",
       "\n",
       "    .dataframe tbody tr th {\n",
       "        vertical-align: top;\n",
       "    }\n",
       "\n",
       "    .dataframe thead th {\n",
       "        text-align: right;\n",
       "    }\n",
       "</style>\n",
       "<table border=\"1\" class=\"dataframe\">\n",
       "  <thead>\n",
       "    <tr style=\"text-align: right;\">\n",
       "      <th></th>\n",
       "      <th>owner_id</th>\n",
       "      <th>text</th>\n",
       "      <th>date</th>\n",
       "      <th>display_url</th>\n",
       "      <th>is_video</th>\n",
       "      <th>like_count</th>\n",
       "      <th>comment_count</th>\n",
       "      <th>video_view_count</th>\n",
       "    </tr>\n",
       "  </thead>\n",
       "  <tbody>\n",
       "    <tr>\n",
       "      <td>0</td>\n",
       "      <td>6.239895e+09</td>\n",
       "      <td>Recordamos siempre con mucho cariÃ±o a la bell...</td>\n",
       "      <td>{'$numberInt': '1583960425'}</td>\n",
       "      <td>https://scontent-mia3-1.cdninstagram.com/v/t51...</td>\n",
       "      <td>0.0</td>\n",
       "      <td>{'$numberInt': '2489'}</td>\n",
       "      <td>{'$numberInt': '53'}</td>\n",
       "      <td>NaN</td>\n",
       "    </tr>\n",
       "  </tbody>\n",
       "</table>\n",
       "</div>"
      ],
      "text/plain": [
       "       owner_id                                               text  \\\n",
       "0  6.239895e+09  Recordamos siempre con mucho cariÃ±o a la bell...   \n",
       "\n",
       "                           date  \\\n",
       "0  {'$numberInt': '1583960425'}   \n",
       "\n",
       "                                         display_url  is_video  \\\n",
       "0  https://scontent-mia3-1.cdninstagram.com/v/t51...       0.0   \n",
       "\n",
       "               like_count         comment_count video_view_count  \n",
       "0  {'$numberInt': '2489'}  {'$numberInt': '53'}              NaN  "
      ]
     },
     "execution_count": 122,
     "metadata": {},
     "output_type": "execute_result"
    }
   ],
   "source": [
    "post.head(1)"
   ]
  },
  {
   "cell_type": "code",
   "execution_count": 29,
   "metadata": {},
   "outputs": [
    {
     "data": {
      "text/plain": [
       "'Recordamos siempre con mucho cariÃ±o a la bella MÃ³nica Spear! Si tambiÃ©n la quieres recordar, ingresa a el link en nuestra bio â�¤ï¸�ï¸� @chantalbaudaux\\n@nachohuett\\n@amandagutierrezpadron\\n.\\n.\\n.\\n.\\nPara capÃ\\xadtulos completos bÃºscanos en YouTube !\\n.\\n.\\nSÃ\\xadguenos en @locovideoloco_ @rctv @elobservador.rctv @radiorochela\\n.\\n.\\n.\\n#RCTV #RadioRochela #Rochela #amor #azucarado #calleluna #callesol'"
      ]
     },
     "execution_count": 29,
     "metadata": {},
     "output_type": "execute_result"
    }
   ],
   "source": [
    "post['text'][0]"
   ]
  },
  {
   "cell_type": "code",
   "execution_count": 123,
   "metadata": {},
   "outputs": [
    {
     "name": "stderr",
     "output_type": "stream",
     "text": [
      "C:\\Users\\leandro\\Anaconda3\\lib\\site-packages\\ipykernel_launcher.py:1: SettingWithCopyWarning: \n",
      "A value is trying to be set on a copy of a slice from a DataFrame.\n",
      "Try using .loc[row_indexer,col_indexer] = value instead\n",
      "\n",
      "See the caveats in the documentation: http://pandas.pydata.org/pandas-docs/stable/user_guide/indexing.html#returning-a-view-versus-a-copy\n",
      "  \"\"\"Entry point for launching an IPython kernel.\n"
     ]
    }
   ],
   "source": [
    "post['like_count']=[re.findall('[0-9]+', str(x)) for x in post['like_count']]"
   ]
  },
  {
   "cell_type": "code",
   "execution_count": 124,
   "metadata": {},
   "outputs": [
    {
     "name": "stderr",
     "output_type": "stream",
     "text": [
      "C:\\Users\\leandro\\Anaconda3\\lib\\site-packages\\ipykernel_launcher.py:1: SettingWithCopyWarning: \n",
      "A value is trying to be set on a copy of a slice from a DataFrame.\n",
      "Try using .loc[row_indexer,col_indexer] = value instead\n",
      "\n",
      "See the caveats in the documentation: http://pandas.pydata.org/pandas-docs/stable/user_guide/indexing.html#returning-a-view-versus-a-copy\n",
      "  \"\"\"Entry point for launching an IPython kernel.\n"
     ]
    }
   ],
   "source": [
    "post['comment_count']=[re.findall('[0-9]+', str(x)) for x in post['comment_count']] "
   ]
  },
  {
   "cell_type": "code",
   "execution_count": 125,
   "metadata": {},
   "outputs": [
    {
     "name": "stderr",
     "output_type": "stream",
     "text": [
      "C:\\Users\\leandro\\Anaconda3\\lib\\site-packages\\ipykernel_launcher.py:1: SettingWithCopyWarning: \n",
      "A value is trying to be set on a copy of a slice from a DataFrame.\n",
      "Try using .loc[row_indexer,col_indexer] = value instead\n",
      "\n",
      "See the caveats in the documentation: http://pandas.pydata.org/pandas-docs/stable/user_guide/indexing.html#returning-a-view-versus-a-copy\n",
      "  \"\"\"Entry point for launching an IPython kernel.\n"
     ]
    }
   ],
   "source": [
    "post['video_view_count']=[re.findall('[0-9]+', str(x)) for x in post['video_view_count']]"
   ]
  },
  {
   "cell_type": "code",
   "execution_count": 126,
   "metadata": {},
   "outputs": [
    {
     "name": "stderr",
     "output_type": "stream",
     "text": [
      "C:\\Users\\leandro\\Anaconda3\\lib\\site-packages\\ipykernel_launcher.py:1: SettingWithCopyWarning: \n",
      "A value is trying to be set on a copy of a slice from a DataFrame.\n",
      "Try using .loc[row_indexer,col_indexer] = value instead\n",
      "\n",
      "See the caveats in the documentation: http://pandas.pydata.org/pandas-docs/stable/user_guide/indexing.html#returning-a-view-versus-a-copy\n",
      "  \"\"\"Entry point for launching an IPython kernel.\n"
     ]
    }
   ],
   "source": [
    "post['date']=[re.findall('[0-9]+', str(x)) for x in post['date']]"
   ]
  },
  {
   "cell_type": "code",
   "execution_count": 136,
   "metadata": {},
   "outputs": [
    {
     "data": {
      "text/html": [
       "<div>\n",
       "<style scoped>\n",
       "    .dataframe tbody tr th:only-of-type {\n",
       "        vertical-align: middle;\n",
       "    }\n",
       "\n",
       "    .dataframe tbody tr th {\n",
       "        vertical-align: top;\n",
       "    }\n",
       "\n",
       "    .dataframe thead th {\n",
       "        text-align: right;\n",
       "    }\n",
       "</style>\n",
       "<table border=\"1\" class=\"dataframe\">\n",
       "  <thead>\n",
       "    <tr style=\"text-align: right;\">\n",
       "      <th></th>\n",
       "      <th>owner_id</th>\n",
       "      <th>text</th>\n",
       "      <th>date</th>\n",
       "      <th>display_url</th>\n",
       "      <th>is_video</th>\n",
       "      <th>like_count</th>\n",
       "      <th>comment_count</th>\n",
       "      <th>video_view_count</th>\n",
       "    </tr>\n",
       "  </thead>\n",
       "  <tbody>\n",
       "    <tr>\n",
       "      <td>0</td>\n",
       "      <td>6.239895e+09</td>\n",
       "      <td>Recordamos siempre con mucho cariÃ±o a la bell...</td>\n",
       "      <td>[1583960425]</td>\n",
       "      <td>https://scontent-mia3-1.cdninstagram.com/v/t51...</td>\n",
       "      <td>0.0</td>\n",
       "      <td>[2489]</td>\n",
       "      <td>[53]</td>\n",
       "      <td>[]</td>\n",
       "    </tr>\n",
       "    <tr>\n",
       "      <td>1</td>\n",
       "      <td>6.239895e+09</td>\n",
       "      <td>Que bonita historia de amor la de Maria Espera...</td>\n",
       "      <td>[1583787627]</td>\n",
       "      <td>https://scontent-mia3-1.cdninstagram.com/v/t51...</td>\n",
       "      <td>1.0</td>\n",
       "      <td>[1798]</td>\n",
       "      <td>[29]</td>\n",
       "      <td>[24329]</td>\n",
       "    </tr>\n",
       "  </tbody>\n",
       "</table>\n",
       "</div>"
      ],
      "text/plain": [
       "       owner_id                                               text  \\\n",
       "0  6.239895e+09  Recordamos siempre con mucho cariÃ±o a la bell...   \n",
       "1  6.239895e+09  Que bonita historia de amor la de Maria Espera...   \n",
       "\n",
       "           date                                        display_url  is_video  \\\n",
       "0  [1583960425]  https://scontent-mia3-1.cdninstagram.com/v/t51...       0.0   \n",
       "1  [1583787627]  https://scontent-mia3-1.cdninstagram.com/v/t51...       1.0   \n",
       "\n",
       "  like_count comment_count video_view_count  \n",
       "0     [2489]          [53]               []  \n",
       "1     [1798]          [29]          [24329]  "
      ]
     },
     "execution_count": 136,
     "metadata": {},
     "output_type": "execute_result"
    }
   ],
   "source": [
    "post.head(2)"
   ]
  },
  {
   "cell_type": "code",
   "execution_count": 131,
   "metadata": {},
   "outputs": [
    {
     "data": {
      "text/plain": [
       "'.\\nPara capÃ\\xadtulos completos bÃºscanos en YouTube !\\n.\\n.\\nSÃ\\xadguenos en @locovideoloco_ @rctv @elobservador.rctv @radiorochela\\n.\\n.\\n.\\n#RCTV #RadioRochela #Rochela #miedo #misterio #espiritu #muerte #archivo #masalla'"
      ]
     },
     "execution_count": 131,
     "metadata": {},
     "output_type": "execute_result"
    }
   ],
   "source": [
    "post['text'][4]"
   ]
  },
  {
   "cell_type": "code",
   "execution_count": 138,
   "metadata": {},
   "outputs": [],
   "source": [
    "count = 0\n",
    "for i in post['text'][4]: \n",
    "    if i == '@': \n",
    "        count = count + 1"
   ]
  },
  {
   "cell_type": "code",
   "execution_count": 139,
   "metadata": {},
   "outputs": [
    {
     "data": {
      "text/plain": [
       "4"
      ]
     },
     "execution_count": 139,
     "metadata": {},
     "output_type": "execute_result"
    }
   ],
   "source": [
    "count"
   ]
  },
  {
   "cell_type": "code",
   "execution_count": 144,
   "metadata": {},
   "outputs": [
    {
     "ename": "TypeError",
     "evalue": "'method' object is not subscriptable",
     "output_type": "error",
     "traceback": [
      "\u001b[1;31m---------------------------------------------------------------------------\u001b[0m",
      "\u001b[1;31mTypeError\u001b[0m                                 Traceback (most recent call last)",
      "\u001b[1;32m<ipython-input-144-a395a3d30b61>\u001b[0m in \u001b[0;36m<module>\u001b[1;34m\u001b[0m\n\u001b[1;32m----> 1\u001b[1;33m \u001b[0mpost\u001b[0m\u001b[1;33m[\u001b[0m\u001b[1;34m'like_count'\u001b[0m\u001b[1;33m]\u001b[0m\u001b[1;33m.\u001b[0m\u001b[0mreplace\u001b[0m\u001b[1;33m[\u001b[0m\u001b[1;34m'['\u001b[0m\u001b[1;33m,\u001b[0m\u001b[1;34m''\u001b[0m\u001b[1;33m]\u001b[0m\u001b[1;33m\u001b[0m\u001b[1;33m\u001b[0m\u001b[0m\n\u001b[0m",
      "\u001b[1;31mTypeError\u001b[0m: 'method' object is not subscriptable"
     ]
    }
   ],
   "source": [
    "post['like_counts'] = post.like_counts.str.replace('[','')"
   ]
  },
  {
   "cell_type": "code",
   "execution_count": null,
   "metadata": {},
   "outputs": [],
   "source": []
  }
 ],
 "metadata": {
  "kernelspec": {
   "display_name": "Python 3",
   "language": "python",
   "name": "python3"
  },
  "language_info": {
   "codemirror_mode": {
    "name": "ipython",
    "version": 3
   },
   "file_extension": ".py",
   "mimetype": "text/x-python",
   "name": "python",
   "nbconvert_exporter": "python",
   "pygments_lexer": "ipython3",
   "version": "3.7.4"
  }
 },
 "nbformat": 4,
 "nbformat_minor": 2
}
