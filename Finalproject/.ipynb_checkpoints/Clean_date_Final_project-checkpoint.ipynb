{
 "cells": [
  {
   "cell_type": "code",
   "execution_count": 349,
   "metadata": {},
   "outputs": [],
   "source": [
    "with open('C:/Users/leandro/Desktop/posts.json','r', encoding='utf8') as f:\n",
    "    x = f.readlines()\n"
   ]
  },
  {
   "cell_type": "code",
   "execution_count": 350,
   "metadata": {},
   "outputs": [],
   "source": [
    "import pandas as pd\n",
    "import re"
   ]
  },
  {
   "cell_type": "code",
   "execution_count": 351,
   "metadata": {},
   "outputs": [],
   "source": [
    "data = pd.read_json('C:/Users/leandro/Desktop/posts.json', lines=True) "
   ]
  },
  {
   "cell_type": "code",
   "execution_count": 379,
   "metadata": {},
   "outputs": [],
   "source": [
    "data=data.fillna(0)"
   ]
  },
  {
   "cell_type": "code",
   "execution_count": 396,
   "metadata": {},
   "outputs": [],
   "source": [
    "post=data[['owner_id','text','date','is_video','like_count','comment_count','video_view_count']]"
   ]
  },
  {
   "cell_type": "code",
   "execution_count": 382,
   "metadata": {},
   "outputs": [],
   "source": [
    "import warnings \n",
    "warnings.filterwarnings('ignore')"
   ]
  },
  {
   "cell_type": "code",
   "execution_count": 398,
   "metadata": {},
   "outputs": [],
   "source": [
    "post['like_count'] = post['like_count'].astype(str)"
   ]
  },
  {
   "cell_type": "code",
   "execution_count": 399,
   "metadata": {},
   "outputs": [],
   "source": [
    "post['comment_count'] = post['comment_count'].astype(str)"
   ]
  },
  {
   "cell_type": "code",
   "execution_count": 400,
   "metadata": {},
   "outputs": [],
   "source": [
    "post['video_view_count'] = post['video_view_count'].astype(str)"
   ]
  },
  {
   "cell_type": "code",
   "execution_count": 407,
   "metadata": {},
   "outputs": [],
   "source": [
    "post['date'] = post['date'].astype(str)"
   ]
  },
  {
   "cell_type": "code",
   "execution_count": 422,
   "metadata": {},
   "outputs": [],
   "source": [
    "post['text'] = post['text'].astype(str)"
   ]
  },
  {
   "cell_type": "code",
   "execution_count": 401,
   "metadata": {},
   "outputs": [],
   "source": [
    "def clean(x):\n",
    "    val = re.findall( '\\d{1,}', x)\n",
    "    return val[0]"
   ]
  },
  {
   "cell_type": "code",
   "execution_count": 402,
   "metadata": {},
   "outputs": [],
   "source": [
    "post['like_count']=list(map(clean, post['like_count']))"
   ]
  },
  {
   "cell_type": "code",
   "execution_count": 403,
   "metadata": {},
   "outputs": [],
   "source": [
    "post['comment_count']=list(map(clean, post['comment_count']))"
   ]
  },
  {
   "cell_type": "code",
   "execution_count": 404,
   "metadata": {},
   "outputs": [],
   "source": [
    "post['video_view_count']=list(map(clean, post['video_view_count']))"
   ]
  },
  {
   "cell_type": "code",
   "execution_count": 408,
   "metadata": {},
   "outputs": [],
   "source": [
    "post['date']=list(map(clean, post['date']))"
   ]
  },
  {
   "cell_type": "code",
   "execution_count": 428,
   "metadata": {},
   "outputs": [],
   "source": [
    "def special(x):\n",
    "    value = re.findall( '@', x)\n",
    "    return len(value)"
   ]
  },
  {
   "cell_type": "code",
   "execution_count": 430,
   "metadata": {},
   "outputs": [],
   "source": [
    "post['refe_count']=list(map(special, post['text']))"
   ]
  },
  {
   "cell_type": "code",
   "execution_count": 432,
   "metadata": {},
   "outputs": [],
   "source": [
    "def hashtag(x):\n",
    "    value = re.findall( '#', x)\n",
    "    return len(value)"
   ]
  },
  {
   "cell_type": "code",
   "execution_count": 446,
   "metadata": {},
   "outputs": [],
   "source": [
    "post['like_count']=post['like_count'].astype(int)"
   ]
  },
  {
   "cell_type": "code",
   "execution_count": 447,
   "metadata": {},
   "outputs": [],
   "source": [
    "post['comment_count']=post['comment_count'].astype(int)"
   ]
  },
  {
   "cell_type": "code",
   "execution_count": 448,
   "metadata": {},
   "outputs": [],
   "source": [
    "post['video_view_count']=post['video_view_count'].astype(int)"
   ]
  },
  {
   "cell_type": "code",
   "execution_count": 463,
   "metadata": {},
   "outputs": [],
   "source": [
    "post['text'] = post['text'].str.lower()"
   ]
  },
  {
   "cell_type": "code",
   "execution_count": 468,
   "metadata": {},
   "outputs": [],
   "source": [
    "post['text'] = list(map(lambda x: re.sub('[?|!|\\'|\"|,|\\n|\\|.]','',x),post['text']))"
   ]
  },
  {
   "cell_type": "code",
   "execution_count": 522,
   "metadata": {},
   "outputs": [],
   "source": [
    "post['hashtag']=list(post.text.str.findall(r'#[A-z]+'))"
   ]
  },
  {
   "cell_type": "code",
   "execution_count": 512,
   "metadata": {},
   "outputs": [],
   "source": [
    "post['links']=list(post.text.str.findall(r'@[A-z]+')).astype(str)"
   ]
  },
  {
   "cell_type": "code",
   "execution_count": 529,
   "metadata": {},
   "outputs": [],
   "source": [
    "post['hashtag']=post['hashtag'].astype(str).str.strip('[]')"
   ]
  },
  {
   "cell_type": "code",
   "execution_count": 534,
   "metadata": {},
   "outputs": [],
   "source": [
    "post['links']=post['links'].astype(str).str.strip('[]]')"
   ]
  },
  {
   "cell_type": "code",
   "execution_count": 537,
   "metadata": {},
   "outputs": [],
   "source": [
    "post['date']=post['date'].astype(int)"
   ]
  },
  {
   "cell_type": "code",
   "execution_count": 543,
   "metadata": {},
   "outputs": [],
   "source": [
    "import datetime"
   ]
  },
  {
   "cell_type": "code",
   "execution_count": 560,
   "metadata": {},
   "outputs": [],
   "source": [
    "post['day_post']=list(map(lambda x: datetime.datetime.fromtimestamp(x).strftime('%Y-%m-%d'),post['date']))"
   ]
  },
  {
   "cell_type": "code",
   "execution_count": 561,
   "metadata": {},
   "outputs": [],
   "source": [
    "post['time_post']=list(map(lambda x: datetime.datetime.fromtimestamp(x).strftime('%H:%M'),post['date']))"
   ]
  },
  {
   "cell_type": "code",
   "execution_count": 563,
   "metadata": {},
   "outputs": [],
   "source": [
    "post=post.drop(['date'], axis=1)"
   ]
  },
  {
   "cell_type": "code",
   "execution_count": 565,
   "metadata": {},
   "outputs": [
    {
     "data": {
      "text/html": [
       "<div>\n",
       "<style scoped>\n",
       "    .dataframe tbody tr th:only-of-type {\n",
       "        vertical-align: middle;\n",
       "    }\n",
       "\n",
       "    .dataframe tbody tr th {\n",
       "        vertical-align: top;\n",
       "    }\n",
       "\n",
       "    .dataframe thead th {\n",
       "        text-align: right;\n",
       "    }\n",
       "</style>\n",
       "<table border=\"1\" class=\"dataframe\">\n",
       "  <thead>\n",
       "    <tr style=\"text-align: right;\">\n",
       "      <th></th>\n",
       "      <th>owner_id</th>\n",
       "      <th>text</th>\n",
       "      <th>is_video</th>\n",
       "      <th>like_count</th>\n",
       "      <th>comment_count</th>\n",
       "      <th>video_view_count</th>\n",
       "      <th>refe_count</th>\n",
       "      <th>hashtag_count</th>\n",
       "      <th>hashtag</th>\n",
       "      <th>links</th>\n",
       "      <th>day_post</th>\n",
       "      <th>time_post</th>\n",
       "    </tr>\n",
       "  </thead>\n",
       "  <tbody>\n",
       "    <tr>\n",
       "      <td>0</td>\n",
       "      <td>6.239895e+09</td>\n",
       "      <td>recordamos siempre con mucho cariã±o a la bell...</td>\n",
       "      <td>0.0</td>\n",
       "      <td>2489</td>\n",
       "      <td>53</td>\n",
       "      <td>0</td>\n",
       "      <td>7</td>\n",
       "      <td>7</td>\n",
       "      <td>'#rctv', '#radiorochela', '#rochela', '#amor',...</td>\n",
       "      <td>'@chantalbaudaux', '@nachohuett', '@amandaguti...</td>\n",
       "      <td>2020-03-11</td>\n",
       "      <td>17:00</td>\n",
       "    </tr>\n",
       "    <tr>\n",
       "      <td>1</td>\n",
       "      <td>6.239895e+09</td>\n",
       "      <td>que bonita historia de amor la de maria espera...</td>\n",
       "      <td>1.0</td>\n",
       "      <td>1798</td>\n",
       "      <td>29</td>\n",
       "      <td>24329</td>\n",
       "      <td>7</td>\n",
       "      <td>7</td>\n",
       "      <td>'#rctv', '#radiorochela', '#rochela', '#amor',...</td>\n",
       "      <td>'@chantalbaudaux', '@nachohuett', '@amandaguti...</td>\n",
       "      <td>2020-03-09</td>\n",
       "      <td>17:00</td>\n",
       "    </tr>\n",
       "    <tr>\n",
       "      <td>2</td>\n",
       "      <td>6.239895e+09</td>\n",
       "      <td>nos encanta una historia de amor puro y si tu ...</td>\n",
       "      <td>0.0</td>\n",
       "      <td>285</td>\n",
       "      <td>6</td>\n",
       "      <td>0</td>\n",
       "      <td>6</td>\n",
       "      <td>6</td>\n",
       "      <td>'#rctv', '#radiorochela', '#rochela', '#romanc...</td>\n",
       "      <td>'@soyroxanadiaz', '@carlosmontilla', '@locovid...</td>\n",
       "      <td>2020-03-04</td>\n",
       "      <td>17:05</td>\n",
       "    </tr>\n",
       "  </tbody>\n",
       "</table>\n",
       "</div>"
      ],
      "text/plain": [
       "       owner_id                                               text  is_video  \\\n",
       "0  6.239895e+09  recordamos siempre con mucho cariã±o a la bell...       0.0   \n",
       "1  6.239895e+09  que bonita historia de amor la de maria espera...       1.0   \n",
       "2  6.239895e+09  nos encanta una historia de amor puro y si tu ...       0.0   \n",
       "\n",
       "   like_count  comment_count  video_view_count  refe_count  hashtag_count  \\\n",
       "0        2489             53                 0           7              7   \n",
       "1        1798             29             24329           7              7   \n",
       "2         285              6                 0           6              6   \n",
       "\n",
       "                                             hashtag  \\\n",
       "0  '#rctv', '#radiorochela', '#rochela', '#amor',...   \n",
       "1  '#rctv', '#radiorochela', '#rochela', '#amor',...   \n",
       "2  '#rctv', '#radiorochela', '#rochela', '#romanc...   \n",
       "\n",
       "                                               links    day_post time_post  \n",
       "0  '@chantalbaudaux', '@nachohuett', '@amandaguti...  2020-03-11     17:00  \n",
       "1  '@chantalbaudaux', '@nachohuett', '@amandaguti...  2020-03-09     17:00  \n",
       "2  '@soyroxanadiaz', '@carlosmontilla', '@locovid...  2020-03-04     17:05  "
      ]
     },
     "execution_count": 565,
     "metadata": {},
     "output_type": "execute_result"
    }
   ],
   "source": [
    "post.head(3)"
   ]
  },
  {
   "cell_type": "code",
   "execution_count": 568,
   "metadata": {},
   "outputs": [
    {
     "data": {
      "text/plain": [
       "<matplotlib.axes._subplots.AxesSubplot at 0x1ad58bf4908>"
      ]
     },
     "execution_count": 568,
     "metadata": {},
     "output_type": "execute_result"
    },
    {
     "data": {
      "image/png": "[encoded data removed]",
      "text/plain": [
       "<Figure size 432x288 with 2 Axes>"
      ]
     },
     "metadata": {
      "needs_background": "light"
     },
     "output_type": "display_data"
    }
   ],
   "source": [
    "import seaborn as sn\n",
    "corrMatrix = post.corr()\n",
    "sn.heatmap(corrMatrix, annot=True,linewidths=.8)"
   ]
  },
  {
   "cell_type": "code",
   "execution_count": null,
   "metadata": {},
   "outputs": [],
   "source": []
  }
 ],
 "metadata": {
  "kernelspec": {
   "display_name": "Python 3",
   "language": "python",
   "name": "python3"
  },
  "language_info": {
   "codemirror_mode": {
    "name": "ipython",
    "version": 3
   },
   "file_extension": ".py",
   "mimetype": "text/x-python",
   "name": "python",
   "nbconvert_exporter": "python",
   "pygments_lexer": "ipython3",
   "version": "3.7.4"
  }
 },
 "nbformat": 4,
 "nbformat_minor": 2
}
