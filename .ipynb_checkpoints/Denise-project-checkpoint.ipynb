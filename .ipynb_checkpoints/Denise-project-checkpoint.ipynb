{
 "cells": [
  {
   "cell_type": "markdown",
   "metadata": {},
   "source": [
    "## Denisee-Lab-Mini-Project-1"
   ]
  },
  {
   "cell_type": "code",
   "execution_count": null,
   "metadata": {},
   "outputs": [
    {
     "name": "stdout",
     "output_type": "stream",
     "text": [
      "Welcome to Guess a Number\n",
      "You have  5  guesses remaining.\n",
      "To play, please enter a number between 1-100: 66\n",
      "66\n",
      "You are very cold, try a drastically lower number\n",
      "You have  4  guesses remaining.\n"
     ]
    }
   ],
   "source": [
    "import random\n",
    "\n",
    "rannum = random.randint(1,101)\n",
    "\n",
    "guesses_remaining = 5\n",
    "print(\"Welcome to Guess a Number\")\n",
    "\n",
    "keep_playing = True \n",
    "while keep_playing:\n",
    "    print(\"You have \", guesses_remaining, \" guesses remaining.\")\n",
    "    prompt = input('To play, please enter a number between 1-100: ')\n",
    "    print(prompt)\n",
    "    try: \n",
    "        prompt = int(prompt)\n",
    "        if prompt>0 and prompt<101: \n",
    "                guesses_remaining -= 1\n",
    "                if prompt == rannum: \n",
    "                    print('Congrats, you got it!')\n",
    "                    keep_playing = False\n",
    "                else: \n",
    "                    if guesses_remaining == 0:\n",
    "                        print(\"You have no more guesses allowed. The correct number was \" + str(rannum))\n",
    "                        keep_playing = False \n",
    "                    elif prompt > (rannum +20): \n",
    "                        print(\"You are very cold, try a drastically lower number\")\n",
    "                    elif prompt < (rannum-20):\n",
    "                        print(\"You are very cold, try a drastically higher number\")\n",
    "                    elif (rannum +20 >= prompt >= rannum +10):\n",
    "                        print(\"You are warm. Try a lower number\")\n",
    "                    elif (rannum -10 >= prompt >= rannum -20):\n",
    "                        print(\"You are warm. Try a higher number\")\n",
    "                    elif (rannum +10 > prompt >rannum):\n",
    "                        print(\"HOT! Try a slight lower number\")\n",
    "                    elif (rannum> prompt > rannum-10): \n",
    "                        print(\"HOT! Try a slightly higher number\")\n",
    "        else:\n",
    "            print(\"Please enter a number within 1-100\")\n",
    "    except ValueError: \n",
    "        print(\"Please enter a number within 1-100\")"
   ]
  },
  {
   "cell_type": "code",
   "execution_count": null,
   "metadata": {},
   "outputs": [],
   "source": []
  }
 ],
 "metadata": {
  "kernelspec": {
   "display_name": "Python 3",
   "language": "python",
   "name": "python3"
  },
  "language_info": {
   "codemirror_mode": {
    "name": "ipython",
    "version": 3
   },
   "file_extension": ".py",
   "mimetype": "text/x-python",
   "name": "python",
   "nbconvert_exporter": "python",
   "pygments_lexer": "ipython3",
   "version": "3.7.4"
  }
 },
 "nbformat": 4,
 "nbformat_minor": 2
}
