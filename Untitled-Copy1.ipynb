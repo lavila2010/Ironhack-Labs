{
 "cells": [
  {
   "cell_type": "code",
   "execution_count": 2,
   "metadata": {},
   "outputs": [],
   "source": [
    "import requests\n",
    "from bs4 import BeautifulSoup\n",
    "import pandas as pd\n",
    "import re\n",
    "import urllib.request"
   ]
  },
  {
   "cell_type": "code",
   "execution_count": 3,
   "metadata": {},
   "outputs": [],
   "source": [
    "from bs4 import BeautifulSoup\n",
    "url='https://time.com/2827608/41-superfoods-ranked-by-how-healthy-they-are/'\n",
    "html = requests.get(url).content\n",
    "soup = BeautifulSoup(html, \"lxml\")\n"
   ]
  },
  {
   "cell_type": "code",
   "execution_count": 19,
   "metadata": {},
   "outputs": [
    {
     "data": {
      "text/plain": [
       "[<tr> <td><strong>Item</strong></td> <td><strong>Nutrient Density Score</strong></td> </tr>,\n",
       " <tr> <td><strong>Watercress</strong></td> <td>100.00</td> </tr>,\n",
       " <tr> <td><strong>Chinese cabbage</strong></td> <td>91.99</td> </tr>,\n",
       " <tr> <td><strong>Chard</strong></td> <td>89.27</td> </tr>,\n",
       " <tr> <td><strong>Beet green</strong></td> <td>87.08</td> </tr>,\n",
       " <tr> <td><strong>Spinach</strong></td> <td>86.43</td> </tr>,\n",
       " <tr> <td><strong>Chicory</strong></td> <td>73.36</td> </tr>,\n",
       " <tr> <td><strong>Leaf lettuce</strong></td> <td>70.73</td> </tr>,\n",
       " <tr> <td><strong>Parsley</strong></td> <td>65.59</td> </tr>,\n",
       " <tr> <td><strong>Romaine lettuce</strong></td> <td>63.48</td> </tr>,\n",
       " <tr> <td><strong>Collard green</strong></td> <td>62.49</td> </tr>,\n",
       " <tr> <td><strong>Turnip green</strong></td> <td>62.12</td> </tr>,\n",
       " <tr> <td><strong>Mustard green</strong></td> <td>61.39</td> </tr>,\n",
       " <tr> <td><strong>Endive</strong></td> <td>60.44</td> </tr>,\n",
       " <tr> <td><strong>Chive</strong></td> <td>54.80</td> </tr>,\n",
       " <tr> <td><strong>Kale</strong></td> <td>49.07</td> </tr>,\n",
       " <tr> <td><strong>Dandelion green</strong></td> <td>46.34</td> </tr>,\n",
       " <tr> <td><strong>Red pepper</strong></td> <td>41.26</td> </tr>,\n",
       " <tr> <td><strong>Arugula</strong></td> <td>37.65</td> </tr>,\n",
       " <tr> <td><strong>Broccoli</strong></td> <td>34.89</td> </tr>,\n",
       " <tr> <td><strong>Pumpkin</strong></td> <td>33.82</td> </tr>,\n",
       " <tr> <td><strong>Brussels sprout</strong></td> <td>32.23</td> </tr>,\n",
       " <tr> <td><strong>Scallion</strong></td> <td>27.35</td> </tr>,\n",
       " <tr> <td><strong>Kohlrabi</strong></td> <td>25.92</td> </tr>,\n",
       " <tr> <td><strong>Cauliflower</strong></td> <td>25.13</td> </tr>,\n",
       " <tr> <td><strong>Cabbage</strong></td> <td>24.51</td> </tr>,\n",
       " <tr> <td><strong>Carrot</strong></td> <td>22.60</td> </tr>,\n",
       " <tr> <td><strong>Tomato</strong></td> <td>20.37</td> </tr>,\n",
       " <tr> <td><strong>Lemon</strong></td> <td>18.72</td> </tr>,\n",
       " <tr> <td><strong>Iceberg lettuce</strong></td> <td>18.28</td> </tr>,\n",
       " <tr> <td><strong>Strawberry</strong></td> <td>17.59</td> </tr>,\n",
       " <tr> <td><strong>Radish</strong></td> <td>16.91</td> </tr>,\n",
       " <tr> <td><strong>Winter squash (all varieties)</strong></td> <td>13.89</td> </tr>,\n",
       " <tr> <td><strong>Orange</strong></td> <td>12.91</td> </tr>,\n",
       " <tr> <td><strong>Lime</strong></td> <td>12.23</td> </tr>,\n",
       " <tr> <td><strong>Grapefruit (pink and red)</strong></td> <td>11.64</td> </tr>,\n",
       " <tr> <td><strong>Rutabaga</strong></td> <td>11.58</td> </tr>,\n",
       " <tr> <td><strong>Turnip</strong></td> <td>11.43</td> </tr>,\n",
       " <tr> <td><strong>Blackberry</strong></td> <td>11.39</td> </tr>,\n",
       " <tr> <td><strong>Leek</strong></td> <td>10.69</td> </tr>,\n",
       " <tr> <td><strong>Sweet potato</strong></td> <td>10.51</td> </tr>,\n",
       " <tr> <td><strong>Grapefruit (white)</strong></td> <td>10.47</td> </tr>]"
      ]
     },
     "execution_count": 19,
     "metadata": {},
     "output_type": "execute_result"
    }
   ],
   "source": [
    "rows = soup.find_all('tr')\n",
    "rows"
   ]
  },
  {
   "cell_type": "code",
   "execution_count": 35,
   "metadata": {},
   "outputs": [
    {
     "data": {
      "text/plain": [
       "[' Item Nutrient Density Score ',\n",
       " ' Watercress 100.00 ',\n",
       " ' Chinese cabbage 91.99 ',\n",
       " ' Chard 89.27 ',\n",
       " ' Beet green 87.08 ',\n",
       " ' Spinach 86.43 ',\n",
       " ' Chicory 73.36 ',\n",
       " ' Leaf lettuce 70.73 ',\n",
       " ' Parsley 65.59 ',\n",
       " ' Romaine lettuce 63.48 ',\n",
       " ' Collard green 62.49 ',\n",
       " ' Turnip green 62.12 ',\n",
       " ' Mustard green 61.39 ',\n",
       " ' Endive 60.44 ',\n",
       " ' Chive 54.80 ',\n",
       " ' Kale 49.07 ',\n",
       " ' Dandelion green 46.34 ',\n",
       " ' Red pepper 41.26 ',\n",
       " ' Arugula 37.65 ',\n",
       " ' Broccoli 34.89 ',\n",
       " ' Pumpkin 33.82 ',\n",
       " ' Brussels sprout 32.23 ',\n",
       " ' Scallion 27.35 ',\n",
       " ' Kohlrabi 25.92 ',\n",
       " ' Cauliflower 25.13 ',\n",
       " ' Cabbage 24.51 ',\n",
       " ' Carrot 22.60 ',\n",
       " ' Tomato 20.37 ',\n",
       " ' Lemon 18.72 ',\n",
       " ' Iceberg lettuce 18.28 ',\n",
       " ' Strawberry 17.59 ',\n",
       " ' Radish 16.91 ',\n",
       " ' Winter squash (all varieties) 13.89 ',\n",
       " ' Orange 12.91 ',\n",
       " ' Lime 12.23 ',\n",
       " ' Grapefruit (pink and red) 11.64 ',\n",
       " ' Rutabaga 11.58 ',\n",
       " ' Turnip 11.43 ',\n",
       " ' Blackberry 11.39 ',\n",
       " ' Leek 10.69 ',\n",
       " ' Sweet potato 10.51 ',\n",
       " ' Grapefruit (white) 10.47 ']"
      ]
     },
     "execution_count": 35,
     "metadata": {},
     "output_type": "execute_result"
    }
   ],
   "source": [
    "nutrition= []\n",
    "for item in soup.find_all(('tr')):\n",
    "    x = item.text\n",
    "    y = ' '.join(re.findall('[a-zA-Z]+', x))\n",
    "    nutrition.append(x)\n",
    "nutrition"
   ]
  },
  {
   "cell_type": "code",
   "execution_count": null,
   "metadata": {},
   "outputs": [],
   "source": []
  }
 ],
 "metadata": {
  "kernelspec": {
   "display_name": "Python 3",
   "language": "python",
   "name": "python3"
  },
  "language_info": {
   "codemirror_mode": {
    "name": "ipython",
    "version": 3
   },
   "file_extension": ".py",
   "mimetype": "text/x-python",
   "name": "python",
   "nbconvert_exporter": "python",
   "pygments_lexer": "ipython3",
   "version": "3.7.4"
  }
 },
 "nbformat": 4,
 "nbformat_minor": 2
}
