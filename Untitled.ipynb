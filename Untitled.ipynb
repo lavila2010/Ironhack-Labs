{
 "cells": [
  {
   "cell_type": "code",
   "execution_count": 1,
   "metadata": {},
   "outputs": [],
   "source": [
    "import requests\n",
    "from bs4 import BeautifulSoup\n",
    "import pandas as pd\n",
    "import re\n",
    "import urllib.request"
   ]
  },
  {
   "cell_type": "code",
   "execution_count": 51,
   "metadata": {},
   "outputs": [],
   "source": [
    "from bs4 import BeautifulSoup\n",
    "url='https://www.eatthis.com/8-reasons-avocado-perfect-weight-loss-food/'\n",
    "html = requests.get(url).content\n",
    "soup = BeautifulSoup(html, \"lxml\")\n"
   ]
  },
  {
   "cell_type": "code",
   "execution_count": 54,
   "metadata": {},
   "outputs": [
    {
     "data": {
      "text/plain": [
       "[<h2 class=\"title\">Avocado Has Been Shown to Decrease Belly Fat</h2>,\n",
       " <h2 class=\"title\">Avocados Are Good Appetite Suppressants</h2>,\n",
       " <h2 class=\"title\">Avocados May Help Improve Overall Diet Quality</h2>,\n",
       " <h2 class=\"title\">Avocado Helps You Absorb More Nutrients</h2>,\n",
       " <h2 class=\"title\">Avocado May Lower 'Bad' Cholesterol Levels</h2>,\n",
       " <h2 class=\"title\">Avocado Antioxidants Neutralize DNA-Damaging Free Radicals</h2>,\n",
       " <h2 class=\"title\">Avocadoes May Help Decrease Risk of Diabetes</h2>,\n",
       " <h2 class=\"title\">Avocados Boost Metabolism and Exercise Endurance</h2>]"
      ]
     },
     "execution_count": 54,
     "metadata": {},
     "output_type": "execute_result"
    }
   ],
   "source": [
    "table = soup.find_all('h2')\n",
    "table"
   ]
  },
  {
   "cell_type": "code",
   "execution_count": 57,
   "metadata": {},
   "outputs": [
    {
     "data": {
      "text/plain": [
       "['Avocado Has Been Shown to Decrease Belly Fat',\n",
       " 'Avocados Are Good Appetite Suppressants',\n",
       " 'Avocados May Help Improve Overall Diet Quality',\n",
       " 'Avocado Helps You Absorb More Nutrients',\n",
       " 'Avocado May Lower Bad Cholesterol Levels',\n",
       " 'Avocado Antioxidants Neutralize DNA Damaging Free Radicals',\n",
       " 'Avocadoes May Help Decrease Risk of Diabetes',\n",
       " 'Avocados Boost Metabolism and Exercise Endurance']"
      ]
     },
     "execution_count": 57,
     "metadata": {},
     "output_type": "execute_result"
    }
   ],
   "source": [
    "avocado_health = []\n",
    "for item in table:\n",
    "    x = item.text\n",
    "    y = ' '.join(re.findall('[A-z]+', x))\n",
    "    avocado_health.append(y)\n",
    "avocado_health"
   ]
  },
  {
   "cell_type": "code",
   "execution_count": 62,
   "metadata": {},
   "outputs": [
    {
     "data": {
      "text/plain": [
       "'This content references scientific studies and academic research, and is fact-checked to ensure accuracy.'"
      ]
     },
     "execution_count": 62,
     "metadata": {},
     "output_type": "execute_result"
    }
   ],
   "source": [
    "pa = soup.find_all('p')\n",
    "pa"
   ]
  },
  {
   "cell_type": "code",
   "execution_count": 67,
   "metadata": {},
   "outputs": [
    {
     "data": {
      "text/plain": [
       "['This content references scientific studies and academic research and is fact checked to ensure accuracy',\n",
       " 'Our team of licensed nutritionists and dietitians strives to be objective unbiased and honest',\n",
       " 'We are committed to bringing you researched expert driven content to help you make more informed decisions around food health and wellness We know how important making choices about your overall health is and we strive to provide you with the best information possible',\n",
       " 'Trendy popular and a bit of an overachiever in the health department avocado is like the homecoming queen of the fats parade',\n",
       " 'Avocado is actually a single seeded berry native to Mexico but it s quite unlike the blueberries and strawberries you typically find in the produce section',\n",
       " 'The number of calories in avocado far exceeds the calorie in a single raspberry Each avocado has calories and grams of fat to times what you ll find in any other item in the produce aisle So it s safe to say the avocado can arguably be considered more of a fat than a fruit Moreover it s the monounsaturated fat content of an avocado grams per berry that researchers say make it so special and deserving of the health food fame',\n",
       " 'With its proven ability to lower cholesterol quell hunger pangs and even spot reduce belly fat the avocado is arguably one of only a few perfect foods to lose weight Find out why and then dig into these ways to eat avocado to let the delicious weight loss begin',\n",
       " '',\n",
       " 'Do a little belly dance Make a little lunch And get down on avocado oil Researchers say swapping your cooking and finishing oils for varieties like avocado oil that are rich in monounsaturated and oleic fatty acids can spot reduce abdominal fat which may decrease the risk for metabolic syndrome the name for a combination of negative health markers associated with weight gain A recent Penn State study found people who consumed grams about tablespoons of high oleic oils on a daily basis for four weeks lowered their belly fat by percent compared to those who consumed a flax safflower oil blend which is comparatively high in polyunsaturated fat',\n",
       " 'A second study in the journal Diabetes Care found similar results A diet rich in monounsaturated fat may actually prevent body fat distribution around the belly by down regulating the expression of certain fat genes',\n",
       " 'One tablespoon of mild and slightly nutty tasting avocado oil is about calories and grams of monounsaturated fat a nutritional profile almost identical to extra virgin olive oil But unlike EVOO avocado oil has a very high smoke point so you can use it for saut s and stir frys without risk of creating free radicals that can harm your health',\n",
       " '',\n",
       " 'A scoop of guacamole may be one of the most effective hunger squashers known to man In a study published in Nutrition Journal participants who ate half a fresh avocado with lunch reported a percent decreased desire to eat for hours afterward At only calories a two tablespoon serving of guacamole on top of eggs salads grilled meats etc can provide the same satiety benefit with even more of a flavor punch',\n",
       " 'Just the chips and be sure when buying store bought guac that avocados actually made it into the jar Believe it or not many store bought brands make guacamole without the real fruit We love Wholly Guacamole as a store brand and they ve just released perfectly portioned minis so you don t have to worry about going overboard',\n",
       " '',\n",
       " 'You know that friend who s always thinner lighter and healthier than you What s their secret Not money not genes just regular consumption of avocado according to the National Health and Nutrition Examination Survey NHANES a program of the Centers for Disease Control and Prevention CDC',\n",
       " 'The survey results published in Nutrition Journal found that eating half a medium sized avocado on a daily basis was highly correlated with improved overall diet quality and a percent reduced risk of metabolic syndrome',\n",
       " 'Not only did the avocado eaters report a lower body mass index and smaller waist circumference but they also consumed significantly more fruits and vegetables and fiber and vitamin K nutrients associated with weight loss Avocado the gateway drug to a healthier leaner lifestyle',\n",
       " '',\n",
       " 'Low calorie vitamin rich and chock full of important nutrients that can shrink your waist vegetables are a dieter s best friend but you won t get much benefit from a garden salad without adding a little fat researchers say',\n",
       " 'And when it comes to fat the type found in avocados reigns supreme In one study published in the journal Molecular Nutrition Food Research researchers fed participants salads topped with saturated monounsaturated and polyunsaturated fat based dressings and tested their blood for absorption of fat soluble carotenoids disease fighting compounds associated with improved weight and fat loss',\n",
       " 'The result Veggies topped with monounsaturated fat required the least amount just grams to get the most carotenoid absorption while saturated fat and polyunsaturated fat dressings required higher amounts of fat grams to get the same benefit',\n",
       " 'Another study in the Journal of Nutrition found that adding avocado to salad allowed participants to absorb three to five times more carotenoids Give your greens the ultimate nutrient boost with a dollop of flavorful guacamole a few slices of fresh avocado or a tablespoon of avocado oil based vinaigrette Those dressing on the side folks don t know what they re missing But speaking of salad dressings make sure you steer clear of these worst salad dressings',\n",
       " '',\n",
       " 'Apples are so cliche Researchers now say it s an avocado a day that can really keep the doctor and your cholesterol levels at bay One study in the Journal of the American Heart Association put overweight people on one of three different cholesterol lowering diets for five weeks One diet was lower in fat with percent of total calories coming from mostly saturated fat and didn t include an avocado A second non avocado diet was more moderate in fat with percent of total calories coming from mostly saturated fats The third was equally moderate in fat at percent but replaced some of the saturated fats with one whole Haas avocado per day',\n",
       " 'The result Low density lipoprotein LDL the bad cholesterol was mg dL lower among the avocado dieters than the low fat group enough to significantly reduce the risk of heart disease Researchers attribute the results to avocado s monounsaturated fat content a type of heart healthy fat molecule that has one unsaturated carbon bond which may play an important part in lowering elevated cholesterol a factor in insulin resistance excess weight and obesity So grab a spoon a sprinkling of kosher salt or spice if you so wish and get snacking',\n",
       " '',\n",
       " 'There s a war going on inside your body The free radicals have launched an attack on the mitochondria and it s sabotaging your metabolism What the what Free radicals are destructive rogue oxygen molecules natural byproducts of metabolism that trigger various chain reactions in the body that destroy cells and DNA causing all kinds of health problems',\n",
       " 'Antioxidants in fresh fruits and vegetables can help neutralize some free radicals but they can t reach the mitochondria base camp for the free radical army And that s a problem when your mitochondria aren t working properly your metabolism runs less efficiently Enter Avocado',\n",
       " 'Researchers say the results jive with low disease rates in Mediterranean countries where olive oil nutritionally similar to the avocado is a diet staple',\n",
       " 'In fact study authors predict avocado oil could eventually be referred to as the olive oil of the Americas So put down the white flag and pick up a green fruit it s good for your metabolism and patriotic to boot',\n",
       " '',\n",
       " 'Sure avocado s got all the right junk in all the right places but fat isn t the only thing the fruit has going for it Avocado also provides nearly vitamins minerals and phytonutrients essential for healthy weight management including grams of satiating fiber and percent micrograms of your daily need for vitamin K a nutrient that helps regulate sugar metabolism and insulin sensitivity',\n",
       " 'One study in the journal Diabetes Care found men and women whose vitamin K intake was among the highest percent of subjects showed a percent lower risk of developing diabetes over the course of years compared with those whose intake was among the lowest fourth',\n",
       " 'Leafy greens are an even richer source of the vitamin so pair a wedge of creamy avocado with your side salad and you re bound to get your fill Stabilizing blood sugar has never been so tasty',\n",
       " '',\n",
       " 'Pre workout supplements claim to give you that extra boost you need to sweat it out for just a little longer than usual According to researchers eating avocado can provide the same energy boost naturally A study in the American Journal of Clinical Nutrition compared the effects of a three week diet high in palmitic acid saturated fat to an equicaloric diet high in oleic acid monounsaturated fats',\n",
       " 'The subjects followed each diet for three weeks at a time during which researchers assessed physical activity and metabolic rate after eating',\n",
       " 'The results Physical activity was percent higher during the high oleic acid diet and post meal metabolism was percent higher as compared to the palmitic stretch',\n",
       " 'Bottom line swap fried foods baked goods and butter for snacks and oils that are high in monounsaturated fat like fresh avocado or avocado oil for a clean energy boost that keeps your metabolism burning even after you ve left the gym',\n",
       " 'RELATED Learn how to fire up your metabolism and lose weight the smart way',\n",
       " 'Want to lose even pounds all without dieting Get your copy of Eat This Not That The Best Worst Foods in America and learn how to indulge smarter and lose weight fast',\n",
       " 'Never buy an overripe avocado again',\n",
       " 'You ll love these tasty new ways to eat this fat',\n",
       " 'Ice cream smoothies fries and more',\n",
       " 'It s so much more than just a healthy breakfast',\n",
       " 'Happy Cinco de Mayo',\n",
       " 'You re welcome',\n",
       " 'It s like a buy one get one free deal',\n",
       " 'Blast fat from your belly fast thanks to these Zero Belly foods',\n",
       " 'Galvanized Media All Rights Reserved EatThis com is part of the AllRecipes Food Group Water Street rd Floor New York NY']"
      ]
     },
     "execution_count": 67,
     "metadata": {},
     "output_type": "execute_result"
    }
   ],
   "source": [
    "avocado_info = []\n",
    "for item in soup.find_all('p'):\n",
    "    x = item.text\n",
    "    y = ' '.join(re.findall('[A-z]+', x))\n",
    "    avocado_info.append(y)\n",
    "avocado_info"
   ]
  },
  {
   "cell_type": "code",
   "execution_count": null,
   "metadata": {},
   "outputs": [],
   "source": []
  }
 ],
 "metadata": {
  "kernelspec": {
   "display_name": "Python 3",
   "language": "python",
   "name": "python3"
  },
  "language_info": {
   "codemirror_mode": {
    "name": "ipython",
    "version": 3
   },
   "file_extension": ".py",
   "mimetype": "text/x-python",
   "name": "python",
   "nbconvert_exporter": "python",
   "pygments_lexer": "ipython3",
   "version": "3.7.4"
  }
 },
 "nbformat": 4,
 "nbformat_minor": 2
}
