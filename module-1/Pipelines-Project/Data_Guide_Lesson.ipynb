{
 "cells": [
  {
   "cell_type": "code",
   "execution_count": 1,
   "metadata": {},
   "outputs": [
    {
     "name": "stdout",
     "output_type": "stream",
     "text": [
      "Requirement already satisfied: quandl in c:\\users\\leandro\\anaconda3\\lib\\site-packages (3.5.0)\n",
      "Requirement already satisfied: numpy>=1.8 in c:\\users\\leandro\\anaconda3\\lib\\site-packages (from quandl) (1.16.5)\n",
      "Requirement already satisfied: six in c:\\users\\leandro\\anaconda3\\lib\\site-packages (from quandl) (1.12.0)\n",
      "Requirement already satisfied: requests>=2.7.0 in c:\\users\\leandro\\anaconda3\\lib\\site-packages (from quandl) (2.22.0)\n",
      "Requirement already satisfied: pandas>=0.14 in c:\\users\\leandro\\anaconda3\\lib\\site-packages (from quandl) (0.25.1)\n",
      "Requirement already satisfied: inflection>=0.3.1 in c:\\users\\leandro\\anaconda3\\lib\\site-packages (from quandl) (0.3.1)\n",
      "Requirement already satisfied: python-dateutil in c:\\users\\leandro\\anaconda3\\lib\\site-packages (from quandl) (2.8.0)\n",
      "Requirement already satisfied: more-itertools in c:\\users\\leandro\\anaconda3\\lib\\site-packages (from quandl) (7.2.0)\n",
      "Requirement already satisfied: chardet<3.1.0,>=3.0.2 in c:\\users\\leandro\\anaconda3\\lib\\site-packages (from requests>=2.7.0->quandl) (3.0.4)\n",
      "Requirement already satisfied: certifi>=2017.4.17 in c:\\users\\leandro\\anaconda3\\lib\\site-packages (from requests>=2.7.0->quandl) (2019.9.11)\n",
      "Requirement already satisfied: urllib3!=1.25.0,!=1.25.1,<1.26,>=1.21.1 in c:\\users\\leandro\\anaconda3\\lib\\site-packages (from requests>=2.7.0->quandl) (1.24.2)\n",
      "Requirement already satisfied: idna<2.9,>=2.5 in c:\\users\\leandro\\anaconda3\\lib\\site-packages (from requests>=2.7.0->quandl) (2.8)\n",
      "Requirement already satisfied: pytz>=2017.2 in c:\\users\\leandro\\anaconda3\\lib\\site-packages (from pandas>=0.14->quandl) (2019.3)\n",
      "Note: you may need to restart the kernel to use updated packages.\n"
     ]
    }
   ],
   "source": [
    "pip install quandl"
   ]
  },
  {
   "cell_type": "code",
   "execution_count": 2,
   "metadata": {},
   "outputs": [],
   "source": [
    "import pandas as pd"
   ]
  },
  {
   "cell_type": "code",
   "execution_count": 3,
   "metadata": {},
   "outputs": [],
   "source": [
    "def get_tickers(path):\n",
    "    companies = pd.read_csv(path)\n",
    "    ticker_list = list(companies['Ticker'])\n",
    "    print('Retrieved', str(len(ticker_list)), 'ticker symbols.')\n",
    "    return ticker_list"
   ]
  },
  {
   "cell_type": "code",
   "execution_count": 7,
   "metadata": {},
   "outputs": [
    {
     "name": "stdout",
     "output_type": "stream",
     "text": [
      "Retrieved 30 ticker symbols.\n",
      "Retrieving data for AAPL\n",
      "Retrieving data for NFLX\n",
      "Retrieving data for AMZN\n",
      "Retrieving data for MSFT\n",
      "Retrieving data for GOOG\n",
      "Retrieving data for TSLA\n",
      "Retrieving data for FB\n",
      "Retrieving data for AAP\n",
      "Retrieving data for DIS\n",
      "Retrieving data for NKE\n",
      "Retrieving data for UA\n",
      "Retrieving data for BAC\n",
      "Retrieving data for CCL\n",
      "Retrieving data for CI\n",
      "Retrieving data for AAL\n",
      "Retrieving data for LUV\n",
      "Retrieving data for WFC\n",
      "Retrieving data for WMT\n",
      "Retrieving data for HD\n",
      "Retrieving data for ORCL\n",
      "Retrieving data for IBM\n",
      "Retrieving data for NCLH\n",
      "Retrieving data for RCL\n",
      "Retrieving data for TWX\n",
      "Retrieving data for FOX\n",
      "Retrieving data for F\n",
      "Retrieving data for GCI\n",
      "Retrieving data for XOM\n",
      "Retrieving data for WWE\n",
      "Retrieving data for WM\n"
     ]
    }
   ],
   "source": [
    "import quandl\n",
    "\n",
    "def get_prices(ticker):\n",
    "    print('Retrieving data for', ticker)\n",
    "    prices = quandl.get('WIKI/' + ticker)['Adj. Close'].reset_index()\n",
    "    prices['Ticker'] = ticker\n",
    "    return prices\n",
    "\n",
    "data = []\n",
    "\n",
    "ticker_list = get_tickers('C:/Users/leandro/desktop/ironhack/module-1/Pipelines-Project/companies.csv')\n",
    "\n",
    "for ticker in ticker_list:\n",
    "    prices = get_prices(ticker)\n",
    "    data.append(prices)"
   ]
  },
  {
   "cell_type": "code",
   "execution_count": 8,
   "metadata": {},
   "outputs": [],
   "source": [
    "def concat_pivot(data, rows, columns, values):\n",
    "    df = pd.concat(data, sort=True)\n",
    "    pivot = df.pivot_table(values=values, columns=columns, index=rows)\n",
    "    return pivot"
   ]
  },
  {
   "cell_type": "code",
   "execution_count": 9,
   "metadata": {},
   "outputs": [],
   "source": [
    "def compute_returns(df):\n",
    "    returns = df.pct_change()\n",
    "    return returns"
   ]
  },
  {
   "cell_type": "code",
   "execution_count": 15,
   "metadata": {},
   "outputs": [
    {
     "ename": "NameError",
     "evalue": "name 'ratios' is not defined",
     "output_type": "error",
     "traceback": [
      "\u001b[1;31m---------------------------------------------------------------------------\u001b[0m",
      "\u001b[1;31mNameError\u001b[0m                                 Traceback (most recent call last)",
      "\u001b[1;32m<ipython-input-15-2f92a028c912>\u001b[0m in \u001b[0;36m<module>\u001b[1;34m\u001b[0m\n\u001b[0;32m      6\u001b[0m     \u001b[0mratios\u001b[0m\u001b[1;33m[\u001b[0m\u001b[1;34m'Ratio'\u001b[0m\u001b[1;33m]\u001b[0m \u001b[1;33m=\u001b[0m \u001b[0mratios\u001b[0m\u001b[1;33m[\u001b[0m\u001b[1;34m'Mean'\u001b[0m\u001b[1;33m]\u001b[0m\u001b[1;33m/\u001b[0m\u001b[0mratios\u001b[0m\u001b[1;33m[\u001b[0m\u001b[1;34m'Std'\u001b[0m\u001b[1;33m]\u001b[0m\u001b[1;33m\u001b[0m\u001b[1;33m\u001b[0m\u001b[0m\n\u001b[0;32m      7\u001b[0m     \u001b[1;32mreturn\u001b[0m \u001b[0mratios\u001b[0m\u001b[1;33m\u001b[0m\u001b[1;33m\u001b[0m\u001b[0m\n\u001b[1;32m----> 8\u001b[1;33m \u001b[0mprint\u001b[0m\u001b[1;33m(\u001b[0m\u001b[0mratios\u001b[0m\u001b[1;33m)\u001b[0m\u001b[1;33m\u001b[0m\u001b[1;33m\u001b[0m\u001b[0m\n\u001b[0m",
      "\u001b[1;31mNameError\u001b[0m: name 'ratios' is not defined"
     ]
    }
   ],
   "source": [
    "def return_risk_ratio(df, days=30):\n",
    "    means = pd.DataFrame(df.tail(days).mean())\n",
    "    std = pd.DataFrame(df.tail(days).std())\n",
    "    ratios = pd.concat([means, std], axis=1).reset_index()\n",
    "    ratios.columns = ['Company', 'Mean', 'Std']\n",
    "    ratios['Ratio'] = ratios['Mean']/ratios['Std']\n",
    "    return ratios\n"
   ]
  },
  {
   "cell_type": "code",
   "execution_count": null,
   "metadata": {},
   "outputs": [],
   "source": [
    "top10 = ratios.sort_values('Ratio', ascending=False).head(10)"
   ]
  },
  {
   "cell_type": "code",
   "execution_count": 16,
   "metadata": {},
   "outputs": [
    {
     "ename": "NameError",
     "evalue": "name 'returns' is not defined",
     "output_type": "error",
     "traceback": [
      "\u001b[1;31m---------------------------------------------------------------------------\u001b[0m",
      "\u001b[1;31mNameError\u001b[0m                                 Traceback (most recent call last)",
      "\u001b[1;32m<ipython-input-16-f04bceeed7f4>\u001b[0m in \u001b[0;36m<module>\u001b[1;34m\u001b[0m\n\u001b[0;32m      3\u001b[0m     \u001b[1;32mreturn\u001b[0m \u001b[0mcorr_matrix\u001b[0m\u001b[1;33m\u001b[0m\u001b[1;33m\u001b[0m\u001b[0m\n\u001b[0;32m      4\u001b[0m \u001b[1;33m\u001b[0m\u001b[0m\n\u001b[1;32m----> 5\u001b[1;33m \u001b[0mtarget_list\u001b[0m \u001b[1;33m=\u001b[0m \u001b[0mreturns\u001b[0m\u001b[1;33m[\u001b[0m\u001b[0mlist\u001b[0m\u001b[1;33m(\u001b[0m\u001b[0mtop10\u001b[0m\u001b[1;33m[\u001b[0m\u001b[1;34m'Company'\u001b[0m\u001b[1;33m]\u001b[0m\u001b[1;33m)\u001b[0m\u001b[1;33m]\u001b[0m\u001b[1;33m\u001b[0m\u001b[1;33m\u001b[0m\u001b[0m\n\u001b[0m\u001b[0;32m      6\u001b[0m \u001b[0mcorrelation\u001b[0m \u001b[1;33m=\u001b[0m \u001b[0mcorr_matrix\u001b[0m\u001b[1;33m(\u001b[0m\u001b[0mtarget_list\u001b[0m\u001b[1;33m)\u001b[0m\u001b[1;33m\u001b[0m\u001b[1;33m\u001b[0m\u001b[0m\n",
      "\u001b[1;31mNameError\u001b[0m: name 'returns' is not defined"
     ]
    }
   ],
   "source": [
    "def corr_matrix(df, days=30):\n",
    "    corr_matrix = df.tail(days).corr()\n",
    "    return corr_matrix\n",
    "\n",
    "target_list = returns[list(top10['Company'])]\n",
    "correlation = corr_matrix(target_list)"
   ]
  },
  {
   "cell_type": "code",
   "execution_count": 17,
   "metadata": {},
   "outputs": [
    {
     "ename": "NameError",
     "evalue": "name 'top10' is not defined",
     "output_type": "error",
     "traceback": [
      "\u001b[1;31m---------------------------------------------------------------------------\u001b[0m",
      "\u001b[1;31mNameError\u001b[0m                                 Traceback (most recent call last)",
      "\u001b[1;32m<ipython-input-17-719af82c3bd4>\u001b[0m in \u001b[0;36m<module>\u001b[1;34m\u001b[0m\n\u001b[0;32m      9\u001b[0m     \u001b[1;32mreturn\u001b[0m \u001b[0mchart\u001b[0m\u001b[1;33m\u001b[0m\u001b[1;33m\u001b[0m\u001b[0m\n\u001b[0;32m     10\u001b[0m \u001b[1;33m\u001b[0m\u001b[0m\n\u001b[1;32m---> 11\u001b[1;33m \u001b[0mbar_plot\u001b[0m \u001b[1;33m=\u001b[0m \u001b[0mbarchart\u001b[0m\u001b[1;33m(\u001b[0m\u001b[0mtop10\u001b[0m\u001b[1;33m,\u001b[0m \u001b[1;34m'Ratio'\u001b[0m\u001b[1;33m,\u001b[0m \u001b[1;34m'Company'\u001b[0m\u001b[1;33m,\u001b[0m \u001b[0mtitle\u001b[0m\u001b[1;33m=\u001b[0m\u001b[1;34m'Stock Return vs. Risk Ratios'\u001b[0m\u001b[1;33m)\u001b[0m\u001b[1;33m\u001b[0m\u001b[1;33m\u001b[0m\u001b[0m\n\u001b[0m",
      "\u001b[1;31mNameError\u001b[0m: name 'top10' is not defined"
     ]
    }
   ],
   "source": [
    "import matplotlib.pyplot as plt\n",
    "import seaborn as sns\n",
    "\n",
    "def barchart(df, x, y, length=8, width=14, title=\"\"):\n",
    "    df = df.sort_values(x, ascending=False)\n",
    "    plt.figure(figsize=(width,length))\n",
    "    chart = sns.barplot(data=df, x=x, y=y)\n",
    "    plt.title(title + \"\\n\", fontsize=16)\n",
    "    return chart\n",
    "\n",
    "bar_plot = barchart(top10, 'Ratio', 'Company', title='Stock Return vs. Risk Ratios')"
   ]
  },
  {
   "cell_type": "code",
   "execution_count": 18,
   "metadata": {},
   "outputs": [
    {
     "ename": "NameError",
     "evalue": "name 'correlation' is not defined",
     "output_type": "error",
     "traceback": [
      "\u001b[1;31m---------------------------------------------------------------------------\u001b[0m",
      "\u001b[1;31mNameError\u001b[0m                                 Traceback (most recent call last)",
      "\u001b[1;32m<ipython-input-18-44c72cbe9df8>\u001b[0m in \u001b[0;36m<module>\u001b[1;34m\u001b[0m\n\u001b[0;32m     12\u001b[0m     \u001b[1;32mreturn\u001b[0m \u001b[0mchart\u001b[0m\u001b[1;33m\u001b[0m\u001b[1;33m\u001b[0m\u001b[0m\n\u001b[0;32m     13\u001b[0m \u001b[1;33m\u001b[0m\u001b[0m\n\u001b[1;32m---> 14\u001b[1;33m \u001b[0mcorr_plot\u001b[0m \u001b[1;33m=\u001b[0m \u001b[0mcorrelation_plot\u001b[0m\u001b[1;33m(\u001b[0m\u001b[0mcorrelation\u001b[0m\u001b[1;33m,\u001b[0m \u001b[0mtitle\u001b[0m\u001b[1;33m=\u001b[0m\u001b[1;34m'Stock Return Correlation'\u001b[0m\u001b[1;33m)\u001b[0m\u001b[1;33m\u001b[0m\u001b[1;33m\u001b[0m\u001b[0m\n\u001b[0m",
      "\u001b[1;31mNameError\u001b[0m: name 'correlation' is not defined"
     ]
    }
   ],
   "source": [
    "import numpy as np\n",
    "\n",
    "def correlation_plot(corr, title=\"\"):\n",
    "    mask = np.zeros_like(corr, dtype=np.bool)\n",
    "    mask[np.triu_indices_from(mask)] = True\n",
    "\n",
    "    plt.subplots(figsize=(15, 10))\n",
    "    cmap = sns.diverging_palette(6, 255, as_cmap=True)\n",
    "    \n",
    "    chart = sns.heatmap(corr, mask=mask, cmap=cmap, center=0, linewidths=.5, annot=True, fmt='.2f')\n",
    "    plt.title(title, fontsize=16)\n",
    "    return chart\n",
    "\n",
    "corr_plot = correlation_plot(correlation, title='Stock Return Correlation')"
   ]
  },
  {
   "cell_type": "code",
   "execution_count": null,
   "metadata": {},
   "outputs": [],
   "source": [
    "def save_viz(chart, title):\n",
    "    fig = chart.get_figure()\n",
    "    fig.savefig(title + '.png')"
   ]
  }
 ],
 "metadata": {
  "kernelspec": {
   "display_name": "Python 3",
   "language": "python",
   "name": "python3"
  },
  "language_info": {
   "codemirror_mode": {
    "name": "ipython",
    "version": 3
   },
   "file_extension": ".py",
   "mimetype": "text/x-python",
   "name": "python",
   "nbconvert_exporter": "python",
   "pygments_lexer": "ipython3",
   "version": "3.7.4"
  }
 },
 "nbformat": 4,
 "nbformat_minor": 2
}
