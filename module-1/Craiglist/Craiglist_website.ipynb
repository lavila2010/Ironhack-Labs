{
 "cells": [
  {
   "cell_type": "code",
   "execution_count": 2,
   "metadata": {},
   "outputs": [],
   "source": [
    "import requests\n",
    "from bs4 import BeautifulSoup\n",
    "import pandas as pd\n",
    "import re\n",
    "import urllib.request"
   ]
  },
  {
   "cell_type": "code",
   "execution_count": 12,
   "metadata": {},
   "outputs": [],
   "source": [
    "from bs4 import BeautifulSoup\n",
    "url='https://miami.craigslist.org/d/apts-housing-for-rent/search/apa'\n",
    "html = requests.get(url).content\n",
    "soup = BeautifulSoup(html, \"lxml\")"
   ]
  },
  {
   "cell_type": "code",
   "execution_count": 44,
   "metadata": {},
   "outputs": [
    {
     "data": {
      "text/plain": [
       "120"
      ]
     },
     "execution_count": 44,
     "metadata": {},
     "output_type": "execute_result"
    }
   ],
   "source": [
    "links = soup.find_all(('ul'),{'class':'rows'})[0]\n",
    "links.find_all(('a'),{'class':'result-image gallery'})\n",
    "list_links=[]\n",
    "for link in links.find_all(('a'),{'class':'result-image gallery'}, href=True):\n",
    "    list_links.append(link['href'])\n",
    "len(list_links)"
   ]
  },
  {
   "cell_type": "code",
   "execution_count": 59,
   "metadata": {},
   "outputs": [
    {
     "data": {
      "text/plain": [
       "'$1650'"
      ]
     },
     "execution_count": 59,
     "metadata": {},
     "output_type": "execute_result"
    }
   ],
   "source": [
    "links = soup.find_all(('ul'),{'class':'rows'})[0]\n",
    "links.find_all(('a'),{'class':'result-image gallery'})[0].find_all(('span'),{'class':'result-price'})[0].text"
   ]
  },
  {
   "cell_type": "code",
   "execution_count": 75,
   "metadata": {},
   "outputs": [],
   "source": [
    "price = []\n",
    "for item in links.find_all(('span'),{'class':'result-price'}):\n",
    "    x = item.text\n",
    "    price.append(x)"
   ]
  },
  {
   "cell_type": "code",
   "execution_count": 81,
   "metadata": {},
   "outputs": [
    {
     "data": {
      "text/plain": [
       "<span class=\"result-hood\"> (HOLLYWOOD)</span>"
      ]
     },
     "execution_count": 81,
     "metadata": {},
     "output_type": "execute_result"
    }
   ],
   "source": [
    "links = soup.find_all(('ul'),{'class':'rows'})[0]\n",
    "links.find_all(('span'),{'class':'result-hood'})[0]"
   ]
  },
  {
   "cell_type": "code",
   "execution_count": 86,
   "metadata": {},
   "outputs": [
    {
     "data": {
      "text/plain": [
       "[' (HOLLYWOOD)',\n",
       " ' (7415 NW 102nd Ct #.)',\n",
       " ' (FORT LAUDERDALE)',\n",
       " ' (Davie)',\n",
       " ' (Palm Beach Gardens)',\n",
       " ' (Delray Beach)',\n",
       " ' (DEERFIELD BEACH)',\n",
       " ' (South Beach)',\n",
       " ' (Boca Raton)',\n",
       " ' (Pembroke Pines)',\n",
       " ' (HOLLYWOOD)',\n",
       " ' (Delray Beach)',\n",
       " ' (West Palm Beach)',\n",
       " ' (West Palm Beach)',\n",
       " ' (Miramar)',\n",
       " ' (360 Glenridge Rd)',\n",
       " ' (Plantation)',\n",
       " ' (6969 Collins Ave. Miami Beach)',\n",
       " ' (Miami Beach, 6362 Collins Ave.)',\n",
       " ' (North Bay Village, 1881 79th Street)',\n",
       " ' (North Bay Village, 1881 79th Street)',\n",
       " ' (North Bay Village, 1881 79th Street)',\n",
       " ' (North Bay Village, 1881 79th Street)',\n",
       " ' (Miami Beach, 6801 Indian Creek)',\n",
       " ' (MIAMI BEACH, 7441 HARDING)',\n",
       " ' (6969 Collins Miami Beach)',\n",
       " ' (6969 Collins Ave, Miami Beach)',\n",
       " ' (6969 Collins , Miami Beach)',\n",
       " ' (6305 Indian Creek, Miami Beach)',\n",
       " ' (6770 Indian Creek, Miami Beach)',\n",
       " ' (Miami Beach, 1919 Bay Drive)',\n",
       " ' (6770 Indian Creek , Miami Beach)',\n",
       " ' (6770 Indian Creek, Miami Beach)',\n",
       " ' (Miami Beach , 7441 Wayne)',\n",
       " ' (North Bay Village, 7601 E. Treasure)',\n",
       " ' (Miami Beach 7135 Collins)',\n",
       " ' (Miami Beach, 6900 Bay Drive)',\n",
       " ' (Miami Beach, 6305 Indian Creek)',\n",
       " ' (Miami Beach)',\n",
       " ' (Palm Beach Gardens)',\n",
       " ' (Pembroke Pines)',\n",
       " ' (Palm Beach Gardens)',\n",
       " ' (10501 N Camelot Cir)',\n",
       " ' (Miami Beach, 6362 COLLINS AV.)',\n",
       " ' (miami Beach-south beach)',\n",
       " ' (Miami Beach, 401 69th Street)',\n",
       " ' (Miami Beach, 401 69th Street)',\n",
       " ' (Miami Beach, 401 69th Street)',\n",
       " ' (Miami Beach, 401 69th Street)',\n",
       " ' (Miami Beach, 401 69th Street)',\n",
       " ' (Miami Beach, 401 69th Street)',\n",
       " ' (miami beach-sofi)',\n",
       " ' (Miami Beach , 6770 Indian Creek)',\n",
       " ' (Downtown Miami)',\n",
       " ' (Miami Beach,6770 Indian Creek)',\n",
       " ' (Miami Beach , 6770 Indian Creek)',\n",
       " ' (Miami Beach, 401 69th Street)',\n",
       " ' (Miami Beach, 401 69th Street)',\n",
       " ' (edgewater)',\n",
       " ' (Miami Beach, 7135 Collins Ave.)',\n",
       " ' (Miami Beach, 6770 Indian Creek)',\n",
       " ' (Miami Beach, 6770 Indian Creek)',\n",
       " ' (Miami Beach, 6770 Indian Creek)',\n",
       " ' (Miami Beach, 6770 Indian Creek)',\n",
       " ' (South Beach)',\n",
       " ' (Miami Beach, 6770 Indian Creek)',\n",
       " ' (Miami Beach, 401 69th Street)',\n",
       " ' (Jupiter)',\n",
       " ' (Miami Beach, 401 69th Street)',\n",
       " ' (Miami Beach, 401 69th Street)',\n",
       " ' (Miami Beach, 6770 Indian Creek)',\n",
       " ' (Miami Beach, 401 69th Street)',\n",
       " ' (Miami Beach, 401 69th Street)',\n",
       " ' (Miami Beach, 401 69th Street)',\n",
       " ' (Miami Beach, 6424 COLLINS AVE.)',\n",
       " ' (Miami Beach, 401 69th Street)',\n",
       " ' (Miami Beach , 401 69th Street)',\n",
       " ' (Miami Beach, 401  69th Street)',\n",
       " ' (Miami Beach, 6770 Indian Creek)',\n",
       " ' (Miami Beach, 401 69th Street)',\n",
       " ' (CORAL SPRINGS)',\n",
       " ' (Miami Beach, 401 69th Street)',\n",
       " ' (Miami Beach, 401 69th Street)',\n",
       " ' (Miami Beach, 401 69th Street)',\n",
       " ' (North Bay Village ,7501 E. Treasure Dr.)',\n",
       " ' (North Bay Village, 7501 E Treasure Dr.)',\n",
       " ' (Coral Springs)',\n",
       " ' (North Bay Village, 7900 Harbor Island Dr.)',\n",
       " ' (North Bay Village, 7900 Harbor Island Dr.)',\n",
       " ' (North Bay Village, 7601 E. Treasure Dr.)',\n",
       " ' (Palm Beach Gardens)',\n",
       " ' (North Bay Village , 7601 E. Treasure)',\n",
       " ' (Lauderhill)',\n",
       " ' (North Bay VIllage, 7601 E. Treasure Dr)',\n",
       " ' (West Palm Beach)',\n",
       " ' (North Bay Village, 7601 E. Treasure Drive)',\n",
       " ' (WEST PALM BEACH)',\n",
       " ' (WEST  PALM BEACH)',\n",
       " ' (West Palm Beach)',\n",
       " ' (WEST PALM BEACH)',\n",
       " ' (North Bay Village, 7601 E. Treasure Dr.)',\n",
       " ' (North Bay Village, 7601 E. Treasure Dr.)',\n",
       " ' (North Bay Village, 7601 E. Treasure Drive)',\n",
       " ' (Palm Beach Gardens)',\n",
       " ' (North Bay Village, 7601 E. Treasures DR.)',\n",
       " ' (West Palm Beach)']"
      ]
     },
     "execution_count": 86,
     "metadata": {},
     "output_type": "execute_result"
    }
   ],
   "source": [
    "hood = []\n",
    "for item in links.find_all(('span'),{'class':'result-hood'}):\n",
    "    x = item.text\n",
    "    hood.append(x)\n",
    "hood"
   ]
  },
  {
   "cell_type": "code",
   "execution_count": null,
   "metadata": {},
   "outputs": [],
   "source": []
  }
 ],
 "metadata": {
  "kernelspec": {
   "display_name": "Python 3",
   "language": "python",
   "name": "python3"
  },
  "language_info": {
   "codemirror_mode": {
    "name": "ipython",
    "version": 3
   },
   "file_extension": ".py",
   "mimetype": "text/x-python",
   "name": "python",
   "nbconvert_exporter": "python",
   "pygments_lexer": "ipython3",
   "version": "3.7.4"
  }
 },
 "nbformat": 4,
 "nbformat_minor": 2
}
