{
 "cells": [
  {
   "cell_type": "markdown",
   "metadata": {},
   "source": [
    "# LAB-OPP"
   ]
  },
  {
   "cell_type": "markdown",
   "metadata": {},
   "source": [
    "#### PROBLEM 1\n",
    "Define a method/function that removes from a given array of integers all the values contained in a second array."
   ]
  },
  {
   "cell_type": "markdown",
   "metadata": {},
   "source": [
    "l = List()\n",
    "\n",
    "integer_list =  [1, 1, 2 ,3 ,1 ,2 ,3 ,4]\n",
    "values_list = [1, 3]\n",
    "l.remove_(integer_list, values_list) == [2, 2, 4]\n",
    "\n",
    "integer_list = [1, 1, 2 ,3 ,1 ,2 ,3 ,4, 4, 3 ,5, 6, 7, 2, 8]\n",
    "lst = [1, 3, 4, 2]\n",
    "l.remove_(integer_list, values_list) == [5, 6 ,7 ,8]\n",
    "\n",
    "integer_list = [8, 2, 7, 2, 3, 4, 6, 5, 4, 4, 1, 2 , 3]\n",
    "lst = [2, 4, 3]\n",
    "l.remove_(integer_list, values_list) == [8, 7, 6, 5, 1]"
   ]
  },
  {
   "cell_type": "code",
   "execution_count": 18,
   "metadata": {},
   "outputs": [
    {
     "data": {
      "text/plain": [
       "[2, 2, 4]"
      ]
     },
     "execution_count": 18,
     "metadata": {},
     "output_type": "execute_result"
    }
   ],
   "source": [
    "l_remove = list(filter(lambda i: i not in values_list,integer_list))\n",
    "l_remove "
   ]
  },
  {
   "cell_type": "code",
   "execution_count": 48,
   "metadata": {},
   "outputs": [],
   "source": [
    "class remover:\n",
    "    \n",
    "    # Instance attribute\n",
    "    def __init__ (self,general_list,remover_list):\n",
    "        self.general_list= general_list\n",
    "        self.remover_list= remover_list\n",
    "        \n",
    "     # intance Method   \n",
    "    def list_remover(self):\n",
    "        result= list(filter(lambda i: i not in self.remover_list,self.general_list))\n",
    "        print(result)"
   ]
  },
  {
   "cell_type": "code",
   "execution_count": 50,
   "metadata": {},
   "outputs": [],
   "source": [
    "new_remover= remover(integer_list,values_list)"
   ]
  },
  {
   "cell_type": "code",
   "execution_count": 57,
   "metadata": {},
   "outputs": [
    {
     "name": "stdout",
     "output_type": "stream",
     "text": [
      "[2, 2, 4]\n"
     ]
    }
   ],
   "source": [
    "new_remover.list_remover()"
   ]
  },
  {
   "cell_type": "markdown",
   "metadata": {},
   "source": [
    "### Problem 2"
   ]
  },
  {
   "cell_type": "markdown",
   "metadata": {},
   "source": [
    "Method For Counting Total Occurence Of Specific Digits\n",
    "\n",
    "integers_list =  [1, 1, 2 ,3 ,1 ,2 ,3 ,4]\n",
    "\n",
    "digits_list = [1, 3]\n",
    "\n",
    "l.count_spec_digits(integers_list, digits_list) == [(1, 3), (3, 2)]\n"
   ]
  },
  {
   "cell_type": "code",
   "execution_count": 66,
   "metadata": {},
   "outputs": [],
   "source": [
    "integers_list_2 = [1, 1, 2 ,3 ,1 ,2 ,3 ,4]\n",
    "digits_list_2 = [1, 3]\n"
   ]
  },
  {
   "cell_type": "code",
   "execution_count": 130,
   "metadata": {},
   "outputs": [
    {
     "name": "stdout",
     "output_type": "stream",
     "text": [
      "121 121\n"
     ]
    }
   ],
   "source": [
    "q1=0\n",
    "q2=0\n",
    "for x, y in [digits_list_2 for x in a for y in b]:\n",
    "    if x in integers_list_2:\n",
    "        q1+=1\n",
    "    if y in integers_list_2:\n",
    "        q2+=1\n",
    "print(q1,q2)"
   ]
  },
  {
   "cell_type": "code",
   "execution_count": null,
   "metadata": {},
   "outputs": [],
   "source": [
    "class counter_numbers:\n",
    "    \n",
    "    # Instance attribute\n",
    "    def __init__ (self,general_list,counter_list):\n",
    "        self.general_list= general_list\n",
    "        self.counter_list= counter_list\n",
    "        \n",
    "     # intance Method   \n",
    "    def item_counter(self):\n",
    "        \n",
    "        print(result_counter)"
   ]
  },
  {
   "cell_type": "markdown",
   "metadata": {},
   "source": [
    "### Problem 3"
   ]
  },
  {
   "cell_type": "markdown",
   "metadata": {},
   "source": [
    "Count the number of occurrences of each character and return it as a list of tuples in order of appearance."
   ]
  },
  {
   "cell_type": "markdown",
   "metadata": {},
   "source": [
    "ordered_count(\"abracadabra\") == [('a', 5), ('b', 2), ('r', 2), ('c', 1), ('d', 1)]"
   ]
  },
  {
   "cell_type": "code",
   "execution_count": 88,
   "metadata": {},
   "outputs": [],
   "source": [
    "a =\"abracadabra\""
   ]
  },
  {
   "cell_type": "code",
   "execution_count": 100,
   "metadata": {},
   "outputs": [
    {
     "data": {
      "text/plain": [
       "['a', 'b', 'r', 'a', 'c', 'a', 'd', 'a', 'b', 'r', 'a']"
      ]
     },
     "execution_count": 100,
     "metadata": {},
     "output_type": "execute_result"
    }
   ],
   "source": [
    "b=list(a)\n",
    "b"
   ]
  },
  {
   "cell_type": "code",
   "execution_count": 106,
   "metadata": {},
   "outputs": [],
   "source": []
  },
  {
   "cell_type": "code",
   "execution_count": null,
   "metadata": {},
   "outputs": [],
   "source": [
    "#from itertools import groupby\n",
    "#[len(list(a)) for key, group in groupby(a)]"
   ]
  },
  {
   "cell_type": "code",
   "execution_count": null,
   "metadata": {},
   "outputs": [],
   "source": [
    "class counter_items:\n",
    "    \n",
    "    # Instance attribute\n",
    "    def __init__ (self,general_list):\n",
    "        self.general_list= general_list\n",
    "        \n",
    "     # intance Method   \n",
    "    def item_counter(self):\n",
    "        \n",
    "        print(result_counter)"
   ]
  }
 ],
 "metadata": {
  "kernelspec": {
   "display_name": "Python 3",
   "language": "python",
   "name": "python3"
  },
  "language_info": {
   "codemirror_mode": {
    "name": "ipython",
    "version": 3
   },
   "file_extension": ".py",
   "mimetype": "text/x-python",
   "name": "python",
   "nbconvert_exporter": "python",
   "pygments_lexer": "ipython3",
   "version": "3.7.4"
  }
 },
 "nbformat": 4,
 "nbformat_minor": 2
}
