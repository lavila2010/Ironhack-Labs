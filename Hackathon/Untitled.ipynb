{
 "cells": [
  {
   "cell_type": "code",
   "execution_count": 3,
   "metadata": {},
   "outputs": [],
   "source": [
    "import pandas as pd"
   ]
  },
  {
   "cell_type": "code",
   "execution_count": 9,
   "metadata": {
    "scrolled": true
   },
   "outputs": [],
   "source": [
    "data = pd.read_excel('C:/Users/leandro/Desktop/Ironhack/Hackathon/8_avocado_health_benefits.xlsx')"
   ]
  },
  {
   "cell_type": "code",
   "execution_count": 7,
   "metadata": {},
   "outputs": [],
   "source": [
    "avocado_benefits =pd.DataFrame(data)"
   ]
  },
  {
   "cell_type": "code",
   "execution_count": 10,
   "metadata": {},
   "outputs": [],
   "source": [
    "avocado_benefits.to_json('C:/Users/leandro/Desktop/Ironhack/Hackathon/8_avocado_health_benefits.json')"
   ]
  },
  {
   "cell_type": "code",
   "execution_count": 32,
   "metadata": {},
   "outputs": [],
   "source": [
    "x = avocado_benefits.T.to_dict().values()\n",
    "x = list(x)\n",
    "import json\n",
    "json_file = json.dumps(x)\n",
    "with open('C:/Users/leandro/Desktop/Ironhack/Hackathon/8_avocado_health_benefits.json', 'w') as outfile:\n",
    "    outfile.write(json_file)"
   ]
  },
  {
   "cell_type": "code",
   "execution_count": 16,
   "metadata": {},
   "outputs": [],
   "source": [
    "dsalmon = pd.DataFrame(pd.read_excel('C:/Users/leandro/Desktop/Ironhack/Hackathon/salmon.xlsx'))"
   ]
  },
  {
   "cell_type": "code",
   "execution_count": 31,
   "metadata": {},
   "outputs": [],
   "source": [
    "x = dsalmon.T.to_dict().values()\n",
    "x = list(x)\n",
    "import json\n",
    "json_file = json.dumps(x)\n",
    "with open('C:/Users/leandro/Desktop/Ironhack/Hackathon/8_salmon_health_benefits.json', 'w') as outfile:\n",
    "    outfile.write(json_file)"
   ]
  },
  {
   "cell_type": "code",
   "execution_count": 28,
   "metadata": {},
   "outputs": [],
   "source": [
    "milk=pd.DataFrame(pd.read_excel('C:/Users/leandro/Desktop/Ironhack/Hackathon/raw_milk.xlsx'))"
   ]
  },
  {
   "cell_type": "code",
   "execution_count": 33,
   "metadata": {},
   "outputs": [],
   "source": [
    "x = milk.T.to_dict().values()\n",
    "x = list(x)\n",
    "import json\n",
    "json_file = json.dumps(x)\n",
    "with open('C:/Users/leandro/Desktop/Ironhack/Hackathon/8_milk_health_benefits.json', 'w') as outfile:\n",
    "    outfile.write(json_file)"
   ]
  },
  {
   "cell_type": "code",
   "execution_count": 35,
   "metadata": {},
   "outputs": [],
   "source": [
    "sweet_potatoes=pd.DataFrame(pd.read_excel('C:/Users/leandro/Desktop/Ironhack/Hackathon/sweet_potatoes.xlsx'))"
   ]
  },
  {
   "cell_type": "code",
   "execution_count": 36,
   "metadata": {},
   "outputs": [],
   "source": [
    "x = sweet_potatoes.T.to_dict().values()\n",
    "x = list(x)\n",
    "import json\n",
    "json_file = json.dumps(x)\n",
    "with open('C:/Users/leandro/Desktop/Ironhack/Hackathon/sweet_potatoes_health_benefits.json', 'w') as outfile:\n",
    "    outfile.write(json_file)"
   ]
  },
  {
   "cell_type": "code",
   "execution_count": 37,
   "metadata": {},
   "outputs": [],
   "source": [
    "sweet_potatoes=pd.DataFrame(pd.read_excel('C:/Users/leandro/Desktop/Ironhack/Hackathon/sweet_potatoes.xlsx'))"
   ]
  },
  {
   "cell_type": "code",
   "execution_count": 39,
   "metadata": {},
   "outputs": [],
   "source": [
    "x = sweet_potatoes.T.to_dict().values()\n",
    "x = list(x)\n",
    "import json\n",
    "json_file = json.dumps(x)\n",
    "with open('C:/Users/leandro/Desktop/Ironhack/Hackathon/sweet_potatoes_health_benefits.json', 'w') as outfile:\n",
    "    outfile.write(json_file)"
   ]
  },
  {
   "cell_type": "code",
   "execution_count": 4,
   "metadata": {},
   "outputs": [],
   "source": [
    "avocado_recipe=pd.DataFrame(pd.read_excel('C:/Users/leandro/Desktop/Ironhack/Hackathon/avocado_recipe.xlsx'))"
   ]
  },
  {
   "cell_type": "code",
   "execution_count": 43,
   "metadata": {},
   "outputs": [
    {
     "data": {
      "text/html": [
       "<div>\n",
       "<style scoped>\n",
       "    .dataframe tbody tr th:only-of-type {\n",
       "        vertical-align: middle;\n",
       "    }\n",
       "\n",
       "    .dataframe tbody tr th {\n",
       "        vertical-align: top;\n",
       "    }\n",
       "\n",
       "    .dataframe thead th {\n",
       "        text-align: right;\n",
       "    }\n",
       "</style>\n",
       "<table border=\"1\" class=\"dataframe\">\n",
       "  <thead>\n",
       "    <tr style=\"text-align: right;\">\n",
       "      <th></th>\n",
       "      <th>Recipe</th>\n",
       "      <th>Ingredients</th>\n",
       "      <th>Instructions</th>\n",
       "    </tr>\n",
       "  </thead>\n",
       "  <tbody>\n",
       "    <tr>\n",
       "      <td>0</td>\n",
       "      <td>Guacamole (Avocado Dip) Recip</td>\n",
       "      <td>2 medium or 1 large Ripe Avocado\\n3 tablespoon...</td>\n",
       "      <td>step-1\\nChoose ripe avocados. To check whether...</td>\n",
       "    </tr>\n",
       "    <tr>\n",
       "      <td>1</td>\n",
       "      <td>Healthy 5 Minute Avocado Toast</td>\n",
       "      <td>1 avocado peeled and seeded\\n2 tablespoons cho...</td>\n",
       "      <td>Toast 2 slices of whole grain in a toaster unt...</td>\n",
       "    </tr>\n",
       "    <tr>\n",
       "      <td>2</td>\n",
       "      <td>Fresh Herbed Avocado Salad</td>\n",
       "      <td>½ cup raw pepitas (green pumpkin seeds)\\n¼ tea...</td>\n",
       "      <td>Since avocados start browning once they’re cut...</td>\n",
       "    </tr>\n",
       "  </tbody>\n",
       "</table>\n",
       "</div>"
      ],
      "text/plain": [
       "                           Recipe  \\\n",
       "0   Guacamole (Avocado Dip) Recip   \n",
       "1  Healthy 5 Minute Avocado Toast   \n",
       "2      Fresh Herbed Avocado Salad   \n",
       "\n",
       "                                         Ingredients  \\\n",
       "0  2 medium or 1 large Ripe Avocado\\n3 tablespoon...   \n",
       "1  1 avocado peeled and seeded\\n2 tablespoons cho...   \n",
       "2  ½ cup raw pepitas (green pumpkin seeds)\\n¼ tea...   \n",
       "\n",
       "                                        Instructions  \n",
       "0  step-1\\nChoose ripe avocados. To check whether...  \n",
       "1  Toast 2 slices of whole grain in a toaster unt...  \n",
       "2  Since avocados start browning once they’re cut...  "
      ]
     },
     "execution_count": 43,
     "metadata": {},
     "output_type": "execute_result"
    }
   ],
   "source": [
    "avocado_recipe"
   ]
  },
  {
   "cell_type": "code",
   "execution_count": 5,
   "metadata": {},
   "outputs": [],
   "source": [
    "x = avocado_recipe.T.to_dict().values()\n",
    "x = list(x)\n",
    "import json\n",
    "json_file = json.dumps(x)\n",
    "with open('C:/Users/leandro/Desktop/Ironhack/Hackathon/avocado_recipe.json', 'w') as outfile:\n",
    "    outfile.write(json_file)"
   ]
  },
  {
   "cell_type": "code",
   "execution_count": null,
   "metadata": {},
   "outputs": [],
   "source": []
  }
 ],
 "metadata": {
  "kernelspec": {
   "display_name": "Python 3",
   "language": "python",
   "name": "python3"
  },
  "language_info": {
   "codemirror_mode": {
    "name": "ipython",
    "version": 3
   },
   "file_extension": ".py",
   "mimetype": "text/x-python",
   "name": "python",
   "nbconvert_exporter": "python",
   "pygments_lexer": "ipython3",
   "version": "3.7.4"
  }
 },
 "nbformat": 4,
 "nbformat_minor": 2
}
